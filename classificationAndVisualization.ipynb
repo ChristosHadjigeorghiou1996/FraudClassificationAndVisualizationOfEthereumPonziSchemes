{
  "cells": [
    {
      "cell_type": "code",
      "metadata": {
        "id": "zTiRXrNOcr2V",
        "cell_id": "00000-c49c6f43-2a6c-412d-9826-d41561e21ab9",
        "deepnote_to_be_reexecuted": false,
        "source_hash": "4fdda1fa",
        "execution_millis": 37,
        "execution_start": 1616941595947,
        "deepnote_cell_type": "code"
      },
      "source": "# import libraries\nimport numpy as np\nimport pandas as pd\nimport os\n#import counter for the key value\nfrom collections import Counter\n\n# install NetworkX for graphs\n!pip install networkx==2.5\n",
      "execution_count": 1,
      "outputs": []
    },
    {
      "cell_type": "code",
      "metadata": {
        "id": "w-8OU1WLcr2Z",
        "outputId": "40c55297-2966-480e-e160-fb27b243632b",
        "cell_id": "00001-2725aea8-7532-49e4-9a5a-05bf8f0dce27",
        "deepnote_to_be_reexecuted": false,
        "source_hash": "d5515da2",
        "execution_millis": 6959,
        "execution_start": 1616941596008,
        "deepnote_cell_type": "code"
      },
      "source": "\n#read dataset \n\n# find csv named \"Ponzi_contracts.csv\"\ndef find_csv(csvname):\n    for root, dirs, files in os.walk(\".\", topdown=False):\n    #    print('root: ', root)\n        for filename in files:\n            if filename == csvname:\n                filepath = os.path.join(root, filename)\n                print('file found: ',filename)\n    print('Filepath: ', filepath)\n    return filepath\n\n\ndataset = find_csv(\"Ponzi_contracts.csv\")\nprint('dataset: ', dataset)\npd_dataset = pd.read_csv(dataset, index_col=False)\nprint(pd_dataset.head(3))\n\n#check the 0 label and 1 label\n# Counter(pd_dataset['label'])\n# Counter({1: 200, 0: 3586})\n\n#given the dataset, parse through it and get each owner, instruction used and allocate them in a list of dictionaries\n# with key the owner and corresponding value a Counter object of all instructions used for each contract.\ndef owner_opcode_dictionary_function(pd_first_dataset):\n    # list of ponzi and non-ponzi depending on the labels that will hold a dictionary of key\n    #  being the address and the values a counter object for all the opcodes used \n    owner_opcode_list_ponzi = []\n    owner_opcode_list_non_ponzi = []\n    # create a general one for classification model\n    owner_opcode_list_general = []\n    # filter the opcode_list to consider only required opcodes from list_to_consider\n    # DUP12 is the sum of DUP 1 and DUP 2 \n    list_to_consider = [\"SSTORE\", \"POP\", \"MSTORE\", \"SWAP1\", \"STOP\", \"DUP9\", \"RETURN\", \"SWAP2\", \"DUP1\", \"DUP2\",\"JUMP\"]\n    \n    \n    print('size: ', len(pd_first_dataset))\n    for i in range(len(pd_first_dataset)):\n        # define for each opcode a new list to store specific DUP1 & DUP2\n        required_opcode_list_ponzi = []\n        required_opcode_list_non_ponzi = []\n\n        required_opcode_list =[]\n\n        address = pd_first_dataset['address'][i]\n        current_opcode = pd_first_dataset['opcode'][i]\n    #    print('current_opcode:', current_opcode)\n        opcode_owner= pd_first_dataset['creator'][i]\n        # print('opcode_owner:', opcode_owner)\n        opcode_label = pd_first_dataset['label'][i]\n        # print('opcode label:', pd_first_dataset['label'][i])\n        opcode_list = current_opcode.split('\\n')\n        # print('opcode_list: ', opcode_list)\n        # check if row is labelled as ponzi or not \n        if opcode_label == 0:\n            for j in opcode_list:\n                if j in list_to_consider:\n                    if j == 'DUP1' or j== \"DUP2\":\n                        required_opcode_list_non_ponzi.append(\"DUP12\")\n                    else:\n                        required_opcode_list_non_ponzi.append(j)\n            # Counter to count frequency of ponzi and non-ponzi\n            opcode_counter_non_ponzi= Counter(required_opcode_list_non_ponzi)\n            # print('opcode_counter_non_ponzi' , opcode_counter_non_ponzi)\n            owner_opcode_list_non_ponzi.append({'owner':opcode_owner, 'address': address, 'opcode_counter':opcode_counter_non_ponzi})\n            owner_opcode_list_general.append({'owner':opcode_owner, 'address':address,'label': opcode_label, 'opcode_counter':opcode_counter_non_ponzi})\n        else:\n            for j in opcode_list:\n                if j in list_to_consider:\n                    if j == 'DUP1' or j== \"DUP2\":\n                        required_opcode_list_ponzi.append(\"DUP12\")\n                    else:\n                        required_opcode_list_ponzi.append(j)\n            # counter for opcode frequency of ponzi\n            opcode_counter_ponzi = Counter(required_opcode_list_ponzi)\n    #        print('opcode_counter_ponzi' , opcode_counter_ponzi)\n            owner_opcode_list_ponzi.append({'owner':opcode_owner, 'address':address, 'opcode_counter':opcode_counter_ponzi})\n            owner_opcode_list_general.append({'owner':opcode_owner, 'address':address,'label':opcode_label, 'opcode_counter':opcode_counter_ponzi})\n\n        # for demonstration use break statement \n        # if i == 1:\n        #      break\n    return owner_opcode_list_ponzi, owner_opcode_list_non_ponzi, owner_opcode_list_general\n                    \nowner_opcode_dict_ponzi, owner_opcode_dict_non_ponzi, owner_opcode_dict_general= owner_opcode_dictionary_function(pd_dataset)\n# print('owner_opcode_dict_ponzi\\n', owner_opcode_dict_ponzi)\n# print(len(owner_opcode_dict_ponzi))\n# print('owner_opcode_dict_non_ponzi\\n', owner_opcode_dict_non_ponzi)\n# print(len(owner_opcode_dict_non_ponzi))\n# print('owner_opcode_dict_general\\n', owner_opcode_dict_general)\n# print(len(owner_opcode_dict_general))",
      "execution_count": 2,
      "outputs": [
        {
          "name": "stdout",
          "text": "file found:  Ponzi_contracts.csv\nFilepath:  ./Ponzi_contracts/Ponzi_contracts.csv\ndataset:  ./Ponzi_contracts/Ponzi_contracts.csv\n                                      address  label  \\\n0  0x582b2489710a4189ad558b6958641789587fcc27      1   \n1  0xeb4245c88c660ae4ee23c76954e5490ccd7bbd82      1   \n2  0xd92d62ce8504e5c61aa17d9a9b13c65dbd77c268      1   \n\n                                              opcode  \\\n0  PUSH1 0x60\\nPUSH1 0x40\\nMSTORE\\nCALLDATASIZE\\n...   \n1  PUSH1 0x60\\nPUSH1 0x40\\nMSTORE\\nCALLDATASIZE\\n...   \n2  PUSH1 0x60\\nPUSH1 0x40\\nMSTORE\\nCALLDATASIZE\\n...   \n\n                                      creator  \n0  0xc14c291012878568b95cfe3f0973f6d5a3a69b09  \n1  0x43f9179a72d88182891502af8e80c32c7365e62b  \n2  0x288ae6c4fcb11771359f9ee33855043e76c0a8fa  \nsize:  3786\n",
          "output_type": "stream"
        }
      ]
    },
    {
      "cell_type": "code",
      "metadata": {
        "tags": [],
        "cell_id": "00002-f61a0e08-c613-4901-8d33-114943a54767",
        "deepnote_to_be_reexecuted": false,
        "source_hash": "ec01449f",
        "execution_millis": 37496,
        "execution_start": 1616941602985,
        "deepnote_cell_type": "code"
      },
      "source": "# every record must have the following codes. If not just assign 0 \nopcode_dictionary = {\n    'SWAP1': 0,\n    'SWAP2': 0,\n    'DUP9' : 0,\n    'DUP12': 0,\n    'MSTORE':0,\n    'POP': 0,\n    'RETURN' : 0,\n    'SSTORE' : 0,\n    'STOP' : 0,\n    'JUMP' : 0\n}\n# initialize empty dataframe to merge the records\nsample_record = ['owner','example','address','example','label',0,'SWAP1', 0, 'SWAP2',0,'DUP9',0,'DUP12',0,'MSTORE',0,'POP',0,'RETURN', 0,\\\n'SSTORE', 0,'STOP', 0,'JUMP', 0]\n\nsample_record_dict = {sample_record[i]: [sample_record[i+1]] for i in range(0,len(sample_record), 2)}\nowner_addr_separate_code_df = pd.DataFrame.from_dict(sample_record_dict)\n# print('owner_addr_separate_code_df\\n',owner_addr_separate_code_df)\n#remove the example row \n# list with all opcodes and non included are 0 \nowner_addr_separate_code_list = []\n\ndf_general = pd.DataFrame(owner_opcode_dict_general)\n\n\nfor index, row in df_general.iterrows():\n    owner = df_general['owner'][index]\n#    print('owner:', owner)\n    address = df_general['address'][index]\n#    print('address:',address)\n    label = df_general['label'][index]\n    # print('label:',label)\n    counter_value = df_general['opcode_counter'][index]\n\n    # if index > 3780:\n    #    print('row:\\n', row)\n    #     print(counter_value)\n    #     print('owner',owner)\n    #     print('address:', address)\n    current_record = ['owner',owner,'address',address, 'label',label]\n    for key in counter_value:\n        current_record.append(key)\n        current_record.append(counter_value[key])\n    # print('current_record\\n',current_record)\n    \n    # check if any of the opcodes is not included in the list and then add them with a value of 0 \n    for specific_opcode in opcode_dictionary.keys():\n        if specific_opcode not in current_record:\n            current_record.append(specific_opcode)\n            current_record.append(0)\n    # print('updated_record:' ,current_record)\n\n\n    # initialize new record to reorder columns in the predefined way\n    only_values = []\n    # find the keys according to the sample_record order in the current record and order them accordingly\n    # consider only the values as the columns are predefined \n    for j in range(0,len(sample_record),2):\n        value = current_record.index(sample_record[j])\n        only_values.append(current_record[value+1])\n    # print('only_values:', only_values)\n    owner_addr_separate_code_df.loc[len(owner_addr_separate_code_df)] = only_values\n\n# do not consider first line which is the example line\nowner_addr_separate_code_df = owner_addr_separate_code_df[1:]\nprint('owner_addr_separate_code_df\\n', owner_addr_separate_code_df)\n",
      "execution_count": 3,
      "outputs": [
        {
          "name": "stdout",
          "text": "owner_addr_separate_code_df\n                                            owner  \\\n1     0xc14c291012878568b95cfe3f0973f6d5a3a69b09   \n2     0x43f9179a72d88182891502af8e80c32c7365e62b   \n3     0x288ae6c4fcb11771359f9ee33855043e76c0a8fa   \n4     0xd229dbda0d510d3937604a0edf254004b495a9f0   \n5     0x288ae6c4fcb11771359f9ee33855043e76c0a8fa   \n...                                          ...   \n3782  0x45ab6108cc41c20f416a98615aa8c349f02a275b   \n3783  0x87c5b5874a18b4306df8a752a6c8cc3e82dafc19   \n3784  0x8bae48f227d978d084b009b775222baaf61ed9fe   \n3785  0x20c24a9a23076b6b89c6207cb14053458e5c199c   \n3786  0x0047a8033cc6d6ca2ed5044674fd421f44884de8   \n\n                                         address  label  SWAP1  SWAP2  DUP9  \\\n1     0x582b2489710a4189ad558b6958641789587fcc27      1    258    106     4   \n2     0xeb4245c88c660ae4ee23c76954e5490ccd7bbd82      1    124     63     3   \n3     0xd92d62ce8504e5c61aa17d9a9b13c65dbd77c268      1    645    201    19   \n4     0xc352add7ad8cac8baa839d8c88e7e9d7df9a219b      1    434    167    10   \n5     0x3f4dd010fbbc9a9b6d95f1f53837d7e9f3befac8      1    668    204    18   \n...                                          ...    ...    ...    ...   ...   \n3782  0x2ef76694fbfd691141d83f921a5ba710525de9b0      0     60     24     0   \n3783  0x1d11e5eae3112dbd44f99266872ff1d07c77dce8      0     19      5     0   \n3784  0xf05782932dbabde1d657a5311fc3b78db81c60e7      0    603    310    13   \n3785  0xd79b4c6791784184e2755b2fc1659eaab0f80456      0    102     43     5   \n3786  0xb0f94af0cfccc76113bb5ba2c2d89d56221b18a5      0      5      3     0   \n\n      DUP12  MSTORE  POP  RETURN  SSTORE  STOP  JUMP  \n1       353     143  119      30      26     5   120  \n2       169      68   34       9      19     9    41  \n3       871     225  581      32      70    24   185  \n4       456     182  197      14      33     4   116  \n5       915     244  573      32      75    28   195  \n...     ...     ...  ...     ...     ...   ...   ...  \n3782     94      24   32       1      15     1    26  \n3783     17       3   13       2       1     2     9  \n3784    704     159  599      15      15    10   103  \n3785    114      45   44       1      17     1    45  \n3786     12       2    3       1       1     1     3  \n\n[3786 rows x 13 columns]\n",
          "output_type": "stream"
        }
      ]
    },
    {
      "cell_type": "code",
      "metadata": {
        "tags": [],
        "cell_id": "00003-167f6c9f-2d4e-4abe-a70b-be9d2c295dc6",
        "deepnote_to_be_reexecuted": false,
        "source_hash": "8600b0c2",
        "execution_millis": 1889,
        "execution_start": 1616941640496,
        "deepnote_cell_type": "code"
      },
      "source": "from sklearn.pipeline import make_pipeline\nfrom sklearn.svm import LinearSVC\nfrom sklearn.model_selection import GridSearchCV\nfrom sklearn.model_selection import StratifiedShuffleSplit\n\nfrom sklearn.metrics import accuracy_score, recall_score, precision_score\nfrom sklearn.feature_extraction.text import CountVectorizer\nfrom sklearn.feature_extraction.text import TfidfVectorizer\nfrom sklearn.linear_model import LogisticRegression\nfrom sklearn.linear_model import SGDClassifier",
      "execution_count": 4,
      "outputs": []
    },
    {
      "cell_type": "code",
      "metadata": {
        "tags": [],
        "cell_id": "00005-c476906e-30ba-44d8-be25-0a0b3a5ada03",
        "deepnote_to_be_reexecuted": false,
        "source_hash": "3894c047",
        "execution_millis": 92,
        "execution_start": 1616941643707,
        "deepnote_cell_type": "code"
      },
      "source": "copy_dataset = owner_addr_separate_code_df.copy()\ncopy_dataset.head(5)",
      "execution_count": 7,
      "outputs": [
        {
          "output_type": "execute_result",
          "execution_count": 7,
          "data": {
            "application/vnd.deepnote.dataframe.v2+json": {
              "row_count": 5,
              "column_count": 13,
              "columns": [
                {
                  "name": "owner",
                  "dtype": "object",
                  "stats": {
                    "unique_count": 4,
                    "nan_count": 0,
                    "categories": [
                      {
                        "name": "0x288ae6c4fcb11771359f9ee33855043e76c0a8fa",
                        "count": 2
                      },
                      {
                        "name": "0xc14c291012878568b95cfe3f0973f6d5a3a69b09",
                        "count": 1
                      },
                      {
                        "name": "2 others",
                        "count": 2
                      }
                    ]
                  }
                },
                {
                  "name": "address",
                  "dtype": "object",
                  "stats": {
                    "unique_count": 5,
                    "nan_count": 0,
                    "categories": [
                      {
                        "name": "0x582b2489710a4189ad558b6958641789587fcc27",
                        "count": 1
                      },
                      {
                        "name": "0xeb4245c88c660ae4ee23c76954e5490ccd7bbd82",
                        "count": 1
                      },
                      {
                        "name": "3 others",
                        "count": 3
                      }
                    ]
                  }
                },
                {
                  "name": "label",
                  "dtype": "int64",
                  "stats": {
                    "unique_count": 1,
                    "nan_count": 0,
                    "min": 1,
                    "max": 1,
                    "histogram": [
                      {
                        "bin_start": 0.5,
                        "bin_end": 0.6,
                        "count": 0
                      },
                      {
                        "bin_start": 0.6,
                        "bin_end": 0.7,
                        "count": 0
                      },
                      {
                        "bin_start": 0.7,
                        "bin_end": 0.8,
                        "count": 0
                      },
                      {
                        "bin_start": 0.8,
                        "bin_end": 0.9,
                        "count": 0
                      },
                      {
                        "bin_start": 0.9,
                        "bin_end": 1,
                        "count": 0
                      },
                      {
                        "bin_start": 1,
                        "bin_end": 1.1,
                        "count": 5
                      },
                      {
                        "bin_start": 1.1,
                        "bin_end": 1.2000000000000002,
                        "count": 0
                      },
                      {
                        "bin_start": 1.2000000000000002,
                        "bin_end": 1.3,
                        "count": 0
                      },
                      {
                        "bin_start": 1.3,
                        "bin_end": 1.4,
                        "count": 0
                      },
                      {
                        "bin_start": 1.4,
                        "bin_end": 1.5,
                        "count": 0
                      }
                    ]
                  }
                },
                {
                  "name": "SWAP1",
                  "dtype": "int64",
                  "stats": {
                    "unique_count": 5,
                    "nan_count": 0,
                    "min": 124,
                    "max": 668,
                    "histogram": [
                      {
                        "bin_start": 124,
                        "bin_end": 178.4,
                        "count": 1
                      },
                      {
                        "bin_start": 178.4,
                        "bin_end": 232.8,
                        "count": 0
                      },
                      {
                        "bin_start": 232.8,
                        "bin_end": 287.2,
                        "count": 1
                      },
                      {
                        "bin_start": 287.2,
                        "bin_end": 341.6,
                        "count": 0
                      },
                      {
                        "bin_start": 341.6,
                        "bin_end": 396,
                        "count": 0
                      },
                      {
                        "bin_start": 396,
                        "bin_end": 450.4,
                        "count": 1
                      },
                      {
                        "bin_start": 450.4,
                        "bin_end": 504.8,
                        "count": 0
                      },
                      {
                        "bin_start": 504.8,
                        "bin_end": 559.2,
                        "count": 0
                      },
                      {
                        "bin_start": 559.2,
                        "bin_end": 613.5999999999999,
                        "count": 0
                      },
                      {
                        "bin_start": 613.5999999999999,
                        "bin_end": 668,
                        "count": 2
                      }
                    ]
                  }
                },
                {
                  "name": "SWAP2",
                  "dtype": "int64",
                  "stats": {
                    "unique_count": 5,
                    "nan_count": 0,
                    "min": 63,
                    "max": 204,
                    "histogram": [
                      {
                        "bin_start": 63,
                        "bin_end": 77.1,
                        "count": 1
                      },
                      {
                        "bin_start": 77.1,
                        "bin_end": 91.2,
                        "count": 0
                      },
                      {
                        "bin_start": 91.2,
                        "bin_end": 105.3,
                        "count": 0
                      },
                      {
                        "bin_start": 105.3,
                        "bin_end": 119.4,
                        "count": 1
                      },
                      {
                        "bin_start": 119.4,
                        "bin_end": 133.5,
                        "count": 0
                      },
                      {
                        "bin_start": 133.5,
                        "bin_end": 147.6,
                        "count": 0
                      },
                      {
                        "bin_start": 147.6,
                        "bin_end": 161.7,
                        "count": 0
                      },
                      {
                        "bin_start": 161.7,
                        "bin_end": 175.8,
                        "count": 1
                      },
                      {
                        "bin_start": 175.8,
                        "bin_end": 189.89999999999998,
                        "count": 0
                      },
                      {
                        "bin_start": 189.89999999999998,
                        "bin_end": 204,
                        "count": 2
                      }
                    ]
                  }
                },
                {
                  "name": "DUP9",
                  "dtype": "int64",
                  "stats": {
                    "unique_count": 5,
                    "nan_count": 0,
                    "min": 3,
                    "max": 19,
                    "histogram": [
                      {
                        "bin_start": 3,
                        "bin_end": 4.6,
                        "count": 2
                      },
                      {
                        "bin_start": 4.6,
                        "bin_end": 6.2,
                        "count": 0
                      },
                      {
                        "bin_start": 6.2,
                        "bin_end": 7.800000000000001,
                        "count": 0
                      },
                      {
                        "bin_start": 7.800000000000001,
                        "bin_end": 9.4,
                        "count": 0
                      },
                      {
                        "bin_start": 9.4,
                        "bin_end": 11,
                        "count": 1
                      },
                      {
                        "bin_start": 11,
                        "bin_end": 12.600000000000001,
                        "count": 0
                      },
                      {
                        "bin_start": 12.600000000000001,
                        "bin_end": 14.200000000000001,
                        "count": 0
                      },
                      {
                        "bin_start": 14.200000000000001,
                        "bin_end": 15.8,
                        "count": 0
                      },
                      {
                        "bin_start": 15.8,
                        "bin_end": 17.4,
                        "count": 0
                      },
                      {
                        "bin_start": 17.4,
                        "bin_end": 19,
                        "count": 2
                      }
                    ]
                  }
                },
                {
                  "name": "DUP12",
                  "dtype": "int64",
                  "stats": {
                    "unique_count": 5,
                    "nan_count": 0,
                    "min": 169,
                    "max": 915,
                    "histogram": [
                      {
                        "bin_start": 169,
                        "bin_end": 243.6,
                        "count": 1
                      },
                      {
                        "bin_start": 243.6,
                        "bin_end": 318.2,
                        "count": 0
                      },
                      {
                        "bin_start": 318.2,
                        "bin_end": 392.79999999999995,
                        "count": 1
                      },
                      {
                        "bin_start": 392.79999999999995,
                        "bin_end": 467.4,
                        "count": 1
                      },
                      {
                        "bin_start": 467.4,
                        "bin_end": 542,
                        "count": 0
                      },
                      {
                        "bin_start": 542,
                        "bin_end": 616.5999999999999,
                        "count": 0
                      },
                      {
                        "bin_start": 616.5999999999999,
                        "bin_end": 691.1999999999999,
                        "count": 0
                      },
                      {
                        "bin_start": 691.1999999999999,
                        "bin_end": 765.8,
                        "count": 0
                      },
                      {
                        "bin_start": 765.8,
                        "bin_end": 840.4,
                        "count": 0
                      },
                      {
                        "bin_start": 840.4,
                        "bin_end": 915,
                        "count": 2
                      }
                    ]
                  }
                },
                {
                  "name": "MSTORE",
                  "dtype": "int64",
                  "stats": {
                    "unique_count": 5,
                    "nan_count": 0,
                    "min": 68,
                    "max": 244,
                    "histogram": [
                      {
                        "bin_start": 68,
                        "bin_end": 85.6,
                        "count": 1
                      },
                      {
                        "bin_start": 85.6,
                        "bin_end": 103.2,
                        "count": 0
                      },
                      {
                        "bin_start": 103.2,
                        "bin_end": 120.80000000000001,
                        "count": 0
                      },
                      {
                        "bin_start": 120.80000000000001,
                        "bin_end": 138.4,
                        "count": 0
                      },
                      {
                        "bin_start": 138.4,
                        "bin_end": 156,
                        "count": 1
                      },
                      {
                        "bin_start": 156,
                        "bin_end": 173.60000000000002,
                        "count": 0
                      },
                      {
                        "bin_start": 173.60000000000002,
                        "bin_end": 191.20000000000002,
                        "count": 1
                      },
                      {
                        "bin_start": 191.20000000000002,
                        "bin_end": 208.8,
                        "count": 0
                      },
                      {
                        "bin_start": 208.8,
                        "bin_end": 226.4,
                        "count": 1
                      },
                      {
                        "bin_start": 226.4,
                        "bin_end": 244,
                        "count": 1
                      }
                    ]
                  }
                },
                {
                  "name": "POP",
                  "dtype": "int64",
                  "stats": {
                    "unique_count": 5,
                    "nan_count": 0,
                    "min": 34,
                    "max": 581,
                    "histogram": [
                      {
                        "bin_start": 34,
                        "bin_end": 88.7,
                        "count": 1
                      },
                      {
                        "bin_start": 88.7,
                        "bin_end": 143.4,
                        "count": 1
                      },
                      {
                        "bin_start": 143.4,
                        "bin_end": 198.10000000000002,
                        "count": 1
                      },
                      {
                        "bin_start": 198.10000000000002,
                        "bin_end": 252.8,
                        "count": 0
                      },
                      {
                        "bin_start": 252.8,
                        "bin_end": 307.5,
                        "count": 0
                      },
                      {
                        "bin_start": 307.5,
                        "bin_end": 362.20000000000005,
                        "count": 0
                      },
                      {
                        "bin_start": 362.20000000000005,
                        "bin_end": 416.90000000000003,
                        "count": 0
                      },
                      {
                        "bin_start": 416.90000000000003,
                        "bin_end": 471.6,
                        "count": 0
                      },
                      {
                        "bin_start": 471.6,
                        "bin_end": 526.3,
                        "count": 0
                      },
                      {
                        "bin_start": 526.3,
                        "bin_end": 581,
                        "count": 2
                      }
                    ]
                  }
                },
                {
                  "name": "RETURN",
                  "dtype": "int64",
                  "stats": {
                    "unique_count": 4,
                    "nan_count": 0,
                    "min": 9,
                    "max": 32,
                    "histogram": [
                      {
                        "bin_start": 9,
                        "bin_end": 11.3,
                        "count": 1
                      },
                      {
                        "bin_start": 11.3,
                        "bin_end": 13.6,
                        "count": 0
                      },
                      {
                        "bin_start": 13.6,
                        "bin_end": 15.899999999999999,
                        "count": 1
                      },
                      {
                        "bin_start": 15.899999999999999,
                        "bin_end": 18.2,
                        "count": 0
                      },
                      {
                        "bin_start": 18.2,
                        "bin_end": 20.5,
                        "count": 0
                      },
                      {
                        "bin_start": 20.5,
                        "bin_end": 22.799999999999997,
                        "count": 0
                      },
                      {
                        "bin_start": 22.799999999999997,
                        "bin_end": 25.099999999999998,
                        "count": 0
                      },
                      {
                        "bin_start": 25.099999999999998,
                        "bin_end": 27.4,
                        "count": 0
                      },
                      {
                        "bin_start": 27.4,
                        "bin_end": 29.7,
                        "count": 0
                      },
                      {
                        "bin_start": 29.7,
                        "bin_end": 32,
                        "count": 3
                      }
                    ]
                  }
                },
                {
                  "name": "SSTORE",
                  "dtype": "int64",
                  "stats": {
                    "unique_count": 5,
                    "nan_count": 0,
                    "min": 19,
                    "max": 75,
                    "histogram": [
                      {
                        "bin_start": 19,
                        "bin_end": 24.6,
                        "count": 1
                      },
                      {
                        "bin_start": 24.6,
                        "bin_end": 30.2,
                        "count": 1
                      },
                      {
                        "bin_start": 30.2,
                        "bin_end": 35.8,
                        "count": 1
                      },
                      {
                        "bin_start": 35.8,
                        "bin_end": 41.4,
                        "count": 0
                      },
                      {
                        "bin_start": 41.4,
                        "bin_end": 47,
                        "count": 0
                      },
                      {
                        "bin_start": 47,
                        "bin_end": 52.599999999999994,
                        "count": 0
                      },
                      {
                        "bin_start": 52.599999999999994,
                        "bin_end": 58.199999999999996,
                        "count": 0
                      },
                      {
                        "bin_start": 58.199999999999996,
                        "bin_end": 63.8,
                        "count": 0
                      },
                      {
                        "bin_start": 63.8,
                        "bin_end": 69.4,
                        "count": 0
                      },
                      {
                        "bin_start": 69.4,
                        "bin_end": 75,
                        "count": 2
                      }
                    ]
                  }
                },
                {
                  "name": "STOP",
                  "dtype": "int64",
                  "stats": {
                    "unique_count": 5,
                    "nan_count": 0,
                    "min": 4,
                    "max": 28,
                    "histogram": [
                      {
                        "bin_start": 4,
                        "bin_end": 6.4,
                        "count": 2
                      },
                      {
                        "bin_start": 6.4,
                        "bin_end": 8.8,
                        "count": 0
                      },
                      {
                        "bin_start": 8.8,
                        "bin_end": 11.2,
                        "count": 1
                      },
                      {
                        "bin_start": 11.2,
                        "bin_end": 13.6,
                        "count": 0
                      },
                      {
                        "bin_start": 13.6,
                        "bin_end": 16,
                        "count": 0
                      },
                      {
                        "bin_start": 16,
                        "bin_end": 18.4,
                        "count": 0
                      },
                      {
                        "bin_start": 18.4,
                        "bin_end": 20.8,
                        "count": 0
                      },
                      {
                        "bin_start": 20.8,
                        "bin_end": 23.2,
                        "count": 0
                      },
                      {
                        "bin_start": 23.2,
                        "bin_end": 25.599999999999998,
                        "count": 1
                      },
                      {
                        "bin_start": 25.599999999999998,
                        "bin_end": 28,
                        "count": 1
                      }
                    ]
                  }
                },
                {
                  "name": "JUMP",
                  "dtype": "int64",
                  "stats": {
                    "unique_count": 5,
                    "nan_count": 0,
                    "min": 41,
                    "max": 195,
                    "histogram": [
                      {
                        "bin_start": 41,
                        "bin_end": 56.4,
                        "count": 1
                      },
                      {
                        "bin_start": 56.4,
                        "bin_end": 71.8,
                        "count": 0
                      },
                      {
                        "bin_start": 71.8,
                        "bin_end": 87.2,
                        "count": 0
                      },
                      {
                        "bin_start": 87.2,
                        "bin_end": 102.6,
                        "count": 0
                      },
                      {
                        "bin_start": 102.6,
                        "bin_end": 118,
                        "count": 1
                      },
                      {
                        "bin_start": 118,
                        "bin_end": 133.4,
                        "count": 1
                      },
                      {
                        "bin_start": 133.4,
                        "bin_end": 148.8,
                        "count": 0
                      },
                      {
                        "bin_start": 148.8,
                        "bin_end": 164.2,
                        "count": 0
                      },
                      {
                        "bin_start": 164.2,
                        "bin_end": 179.6,
                        "count": 0
                      },
                      {
                        "bin_start": 179.6,
                        "bin_end": 195,
                        "count": 2
                      }
                    ]
                  }
                },
                {
                  "name": "_deepnote_index_column",
                  "dtype": "int64"
                }
              ],
              "rows_top": [
                {
                  "owner": "0xc14c291012878568b95cfe3f0973f6d5a3a69b09",
                  "address": "0x582b2489710a4189ad558b6958641789587fcc27",
                  "label": 1,
                  "SWAP1": 258,
                  "SWAP2": 106,
                  "DUP9": 4,
                  "DUP12": 353,
                  "MSTORE": 143,
                  "POP": 119,
                  "RETURN": 30,
                  "SSTORE": 26,
                  "STOP": 5,
                  "JUMP": 120,
                  "_deepnote_index_column": 1
                },
                {
                  "owner": "0x43f9179a72d88182891502af8e80c32c7365e62b",
                  "address": "0xeb4245c88c660ae4ee23c76954e5490ccd7bbd82",
                  "label": 1,
                  "SWAP1": 124,
                  "SWAP2": 63,
                  "DUP9": 3,
                  "DUP12": 169,
                  "MSTORE": 68,
                  "POP": 34,
                  "RETURN": 9,
                  "SSTORE": 19,
                  "STOP": 9,
                  "JUMP": 41,
                  "_deepnote_index_column": 2
                },
                {
                  "owner": "0x288ae6c4fcb11771359f9ee33855043e76c0a8fa",
                  "address": "0xd92d62ce8504e5c61aa17d9a9b13c65dbd77c268",
                  "label": 1,
                  "SWAP1": 645,
                  "SWAP2": 201,
                  "DUP9": 19,
                  "DUP12": 871,
                  "MSTORE": 225,
                  "POP": 581,
                  "RETURN": 32,
                  "SSTORE": 70,
                  "STOP": 24,
                  "JUMP": 185,
                  "_deepnote_index_column": 3
                },
                {
                  "owner": "0xd229dbda0d510d3937604a0edf254004b495a9f0",
                  "address": "0xc352add7ad8cac8baa839d8c88e7e9d7df9a219b",
                  "label": 1,
                  "SWAP1": 434,
                  "SWAP2": 167,
                  "DUP9": 10,
                  "DUP12": 456,
                  "MSTORE": 182,
                  "POP": 197,
                  "RETURN": 14,
                  "SSTORE": 33,
                  "STOP": 4,
                  "JUMP": 116,
                  "_deepnote_index_column": 4
                },
                {
                  "owner": "0x288ae6c4fcb11771359f9ee33855043e76c0a8fa",
                  "address": "0x3f4dd010fbbc9a9b6d95f1f53837d7e9f3befac8",
                  "label": 1,
                  "SWAP1": 668,
                  "SWAP2": 204,
                  "DUP9": 18,
                  "DUP12": 915,
                  "MSTORE": 244,
                  "POP": 573,
                  "RETURN": 32,
                  "SSTORE": 75,
                  "STOP": 28,
                  "JUMP": 195,
                  "_deepnote_index_column": 5
                }
              ],
              "rows_bottom": null
            },
            "text/plain": "                                        owner  \\\n1  0xc14c291012878568b95cfe3f0973f6d5a3a69b09   \n2  0x43f9179a72d88182891502af8e80c32c7365e62b   \n3  0x288ae6c4fcb11771359f9ee33855043e76c0a8fa   \n4  0xd229dbda0d510d3937604a0edf254004b495a9f0   \n5  0x288ae6c4fcb11771359f9ee33855043e76c0a8fa   \n\n                                      address  label  SWAP1  SWAP2  DUP9  \\\n1  0x582b2489710a4189ad558b6958641789587fcc27      1    258    106     4   \n2  0xeb4245c88c660ae4ee23c76954e5490ccd7bbd82      1    124     63     3   \n3  0xd92d62ce8504e5c61aa17d9a9b13c65dbd77c268      1    645    201    19   \n4  0xc352add7ad8cac8baa839d8c88e7e9d7df9a219b      1    434    167    10   \n5  0x3f4dd010fbbc9a9b6d95f1f53837d7e9f3befac8      1    668    204    18   \n\n   DUP12  MSTORE  POP  RETURN  SSTORE  STOP  JUMP  \n1    353     143  119      30      26     5   120  \n2    169      68   34       9      19     9    41  \n3    871     225  581      32      70    24   185  \n4    456     182  197      14      33     4   116  \n5    915     244  573      32      75    28   195  ",
            "text/html": "<div>\n<style scoped>\n    .dataframe tbody tr th:only-of-type {\n        vertical-align: middle;\n    }\n\n    .dataframe tbody tr th {\n        vertical-align: top;\n    }\n\n    .dataframe thead th {\n        text-align: right;\n    }\n</style>\n<table border=\"1\" class=\"dataframe\">\n  <thead>\n    <tr style=\"text-align: right;\">\n      <th></th>\n      <th>owner</th>\n      <th>address</th>\n      <th>label</th>\n      <th>SWAP1</th>\n      <th>SWAP2</th>\n      <th>DUP9</th>\n      <th>DUP12</th>\n      <th>MSTORE</th>\n      <th>POP</th>\n      <th>RETURN</th>\n      <th>SSTORE</th>\n      <th>STOP</th>\n      <th>JUMP</th>\n    </tr>\n  </thead>\n  <tbody>\n    <tr>\n      <th>1</th>\n      <td>0xc14c291012878568b95cfe3f0973f6d5a3a69b09</td>\n      <td>0x582b2489710a4189ad558b6958641789587fcc27</td>\n      <td>1</td>\n      <td>258</td>\n      <td>106</td>\n      <td>4</td>\n      <td>353</td>\n      <td>143</td>\n      <td>119</td>\n      <td>30</td>\n      <td>26</td>\n      <td>5</td>\n      <td>120</td>\n    </tr>\n    <tr>\n      <th>2</th>\n      <td>0x43f9179a72d88182891502af8e80c32c7365e62b</td>\n      <td>0xeb4245c88c660ae4ee23c76954e5490ccd7bbd82</td>\n      <td>1</td>\n      <td>124</td>\n      <td>63</td>\n      <td>3</td>\n      <td>169</td>\n      <td>68</td>\n      <td>34</td>\n      <td>9</td>\n      <td>19</td>\n      <td>9</td>\n      <td>41</td>\n    </tr>\n    <tr>\n      <th>3</th>\n      <td>0x288ae6c4fcb11771359f9ee33855043e76c0a8fa</td>\n      <td>0xd92d62ce8504e5c61aa17d9a9b13c65dbd77c268</td>\n      <td>1</td>\n      <td>645</td>\n      <td>201</td>\n      <td>19</td>\n      <td>871</td>\n      <td>225</td>\n      <td>581</td>\n      <td>32</td>\n      <td>70</td>\n      <td>24</td>\n      <td>185</td>\n    </tr>\n    <tr>\n      <th>4</th>\n      <td>0xd229dbda0d510d3937604a0edf254004b495a9f0</td>\n      <td>0xc352add7ad8cac8baa839d8c88e7e9d7df9a219b</td>\n      <td>1</td>\n      <td>434</td>\n      <td>167</td>\n      <td>10</td>\n      <td>456</td>\n      <td>182</td>\n      <td>197</td>\n      <td>14</td>\n      <td>33</td>\n      <td>4</td>\n      <td>116</td>\n    </tr>\n    <tr>\n      <th>5</th>\n      <td>0x288ae6c4fcb11771359f9ee33855043e76c0a8fa</td>\n      <td>0x3f4dd010fbbc9a9b6d95f1f53837d7e9f3befac8</td>\n      <td>1</td>\n      <td>668</td>\n      <td>204</td>\n      <td>18</td>\n      <td>915</td>\n      <td>244</td>\n      <td>573</td>\n      <td>32</td>\n      <td>75</td>\n      <td>28</td>\n      <td>195</td>\n    </tr>\n  </tbody>\n</table>\n</div>"
          },
          "metadata": {}
        }
      ]
    },
    {
      "cell_type": "code",
      "metadata": {
        "tags": [],
        "cell_id": "00013-cee55390-2537-4206-b4fd-a35d46908df1",
        "deepnote_to_be_reexecuted": false,
        "source_hash": "c7d7b50f",
        "execution_millis": 26,
        "execution_start": 1616941643804,
        "deepnote_cell_type": "code"
      },
      "source": "df = pd.DataFrame(copy_dataset) \n# \ny = df.iloc[1:,[2]]\n# y = y_stuff\n# _target\nX = df.iloc[1:,[2,3,4,5,6,7,8,9,10,11,12]]\nprint(X.shape)\nprint(y.shape)",
      "execution_count": 8,
      "outputs": [
        {
          "name": "stdout",
          "text": "(3785, 11)\n(3785, 1)\n",
          "output_type": "stream"
        }
      ]
    },
    {
      "cell_type": "code",
      "metadata": {
        "tags": [],
        "cell_id": "00018-b693d4b0-be02-44a8-a6b9-eb6110610770",
        "deepnote_to_be_reexecuted": false,
        "source_hash": "e0e6fbe",
        "execution_millis": 22,
        "execution_start": 1616941643939,
        "deepnote_cell_type": "code"
      },
      "source": "y_stuff = y['label']\ny_stuff.shape",
      "execution_count": 11,
      "outputs": []
    },
    {
      "cell_type": "code",
      "metadata": {
        "tags": [],
        "cell_id": "00007-bd72a909-f19a-4da7-a770-5808748b87f0",
        "deepnote_to_be_reexecuted": false,
        "source_hash": "6f831b9a",
        "execution_millis": 80,
        "execution_start": 1616941644023,
        "deepnote_cell_type": "code"
      },
      "source": "from sklearn.model_selection import train_test_split\nX_train, X_test, y_train, y_test = train_test_split(X, y_stuff, random_state = 42, stratify = y)\nprint(X_train.shape, X_test.shape, y_train.shape, y_test.shape)",
      "execution_count": 13,
      "outputs": [
        {
          "name": "stdout",
          "text": "(2838, 11) (947, 11) (2838,) (947,)\n",
          "output_type": "stream"
        }
      ]
    },
    {
      "cell_type": "code",
      "metadata": {
        "tags": [],
        "cell_id": "00008-9266e2ee-d06f-4e06-a29b-b198b521aba6",
        "deepnote_to_be_reexecuted": false,
        "source_hash": "3e36cac5",
        "execution_millis": 147,
        "output_cleared": false,
        "execution_start": 1616942004603,
        "deepnote_cell_type": "code"
      },
      "source": "X_train.head(3)",
      "execution_count": 56,
      "outputs": [
        {
          "output_type": "execute_result",
          "execution_count": 56,
          "data": {
            "application/vnd.deepnote.dataframe.v2+json": {
              "row_count": 3,
              "column_count": 11,
              "columns": [
                {
                  "name": "label",
                  "dtype": "int64",
                  "stats": {
                    "unique_count": 1,
                    "nan_count": 0,
                    "min": 0,
                    "max": 0,
                    "histogram": [
                      {
                        "bin_start": -0.5,
                        "bin_end": -0.4,
                        "count": 0
                      },
                      {
                        "bin_start": -0.4,
                        "bin_end": -0.3,
                        "count": 0
                      },
                      {
                        "bin_start": -0.3,
                        "bin_end": -0.19999999999999996,
                        "count": 0
                      },
                      {
                        "bin_start": -0.19999999999999996,
                        "bin_end": -0.09999999999999998,
                        "count": 0
                      },
                      {
                        "bin_start": -0.09999999999999998,
                        "bin_end": 0,
                        "count": 0
                      },
                      {
                        "bin_start": 0,
                        "bin_end": 0.10000000000000009,
                        "count": 3
                      },
                      {
                        "bin_start": 0.10000000000000009,
                        "bin_end": 0.20000000000000007,
                        "count": 0
                      },
                      {
                        "bin_start": 0.20000000000000007,
                        "bin_end": 0.30000000000000004,
                        "count": 0
                      },
                      {
                        "bin_start": 0.30000000000000004,
                        "bin_end": 0.4,
                        "count": 0
                      },
                      {
                        "bin_start": 0.4,
                        "bin_end": 0.5,
                        "count": 0
                      }
                    ]
                  }
                },
                {
                  "name": "SWAP1",
                  "dtype": "int64",
                  "stats": {
                    "unique_count": 3,
                    "nan_count": 0,
                    "min": 149,
                    "max": 219,
                    "histogram": [
                      {
                        "bin_start": 149,
                        "bin_end": 156,
                        "count": 1
                      },
                      {
                        "bin_start": 156,
                        "bin_end": 163,
                        "count": 1
                      },
                      {
                        "bin_start": 163,
                        "bin_end": 170,
                        "count": 0
                      },
                      {
                        "bin_start": 170,
                        "bin_end": 177,
                        "count": 0
                      },
                      {
                        "bin_start": 177,
                        "bin_end": 184,
                        "count": 0
                      },
                      {
                        "bin_start": 184,
                        "bin_end": 191,
                        "count": 0
                      },
                      {
                        "bin_start": 191,
                        "bin_end": 198,
                        "count": 0
                      },
                      {
                        "bin_start": 198,
                        "bin_end": 205,
                        "count": 0
                      },
                      {
                        "bin_start": 205,
                        "bin_end": 212,
                        "count": 0
                      },
                      {
                        "bin_start": 212,
                        "bin_end": 219,
                        "count": 1
                      }
                    ]
                  }
                },
                {
                  "name": "SWAP2",
                  "dtype": "int64",
                  "stats": {
                    "unique_count": 2,
                    "nan_count": 0,
                    "min": 73,
                    "max": 80,
                    "histogram": [
                      {
                        "bin_start": 73,
                        "bin_end": 73.7,
                        "count": 2
                      },
                      {
                        "bin_start": 73.7,
                        "bin_end": 74.4,
                        "count": 0
                      },
                      {
                        "bin_start": 74.4,
                        "bin_end": 75.1,
                        "count": 0
                      },
                      {
                        "bin_start": 75.1,
                        "bin_end": 75.8,
                        "count": 0
                      },
                      {
                        "bin_start": 75.8,
                        "bin_end": 76.5,
                        "count": 0
                      },
                      {
                        "bin_start": 76.5,
                        "bin_end": 77.2,
                        "count": 0
                      },
                      {
                        "bin_start": 77.2,
                        "bin_end": 77.9,
                        "count": 0
                      },
                      {
                        "bin_start": 77.9,
                        "bin_end": 78.6,
                        "count": 0
                      },
                      {
                        "bin_start": 78.6,
                        "bin_end": 79.3,
                        "count": 0
                      },
                      {
                        "bin_start": 79.3,
                        "bin_end": 80,
                        "count": 1
                      }
                    ]
                  }
                },
                {
                  "name": "DUP9",
                  "dtype": "int64",
                  "stats": {
                    "unique_count": 3,
                    "nan_count": 0,
                    "min": 0,
                    "max": 5,
                    "histogram": [
                      {
                        "bin_start": 0,
                        "bin_end": 0.5,
                        "count": 1
                      },
                      {
                        "bin_start": 0.5,
                        "bin_end": 1,
                        "count": 0
                      },
                      {
                        "bin_start": 1,
                        "bin_end": 1.5,
                        "count": 0
                      },
                      {
                        "bin_start": 1.5,
                        "bin_end": 2,
                        "count": 0
                      },
                      {
                        "bin_start": 2,
                        "bin_end": 2.5,
                        "count": 1
                      },
                      {
                        "bin_start": 2.5,
                        "bin_end": 3,
                        "count": 0
                      },
                      {
                        "bin_start": 3,
                        "bin_end": 3.5,
                        "count": 0
                      },
                      {
                        "bin_start": 3.5,
                        "bin_end": 4,
                        "count": 0
                      },
                      {
                        "bin_start": 4,
                        "bin_end": 4.5,
                        "count": 0
                      },
                      {
                        "bin_start": 4.5,
                        "bin_end": 5,
                        "count": 1
                      }
                    ]
                  }
                },
                {
                  "name": "DUP12",
                  "dtype": "int64",
                  "stats": {
                    "unique_count": 3,
                    "nan_count": 0,
                    "min": 250,
                    "max": 360,
                    "histogram": [
                      {
                        "bin_start": 250,
                        "bin_end": 261,
                        "count": 1
                      },
                      {
                        "bin_start": 261,
                        "bin_end": 272,
                        "count": 0
                      },
                      {
                        "bin_start": 272,
                        "bin_end": 283,
                        "count": 1
                      },
                      {
                        "bin_start": 283,
                        "bin_end": 294,
                        "count": 0
                      },
                      {
                        "bin_start": 294,
                        "bin_end": 305,
                        "count": 0
                      },
                      {
                        "bin_start": 305,
                        "bin_end": 316,
                        "count": 0
                      },
                      {
                        "bin_start": 316,
                        "bin_end": 327,
                        "count": 0
                      },
                      {
                        "bin_start": 327,
                        "bin_end": 338,
                        "count": 0
                      },
                      {
                        "bin_start": 338,
                        "bin_end": 349,
                        "count": 0
                      },
                      {
                        "bin_start": 349,
                        "bin_end": 360,
                        "count": 1
                      }
                    ]
                  }
                },
                {
                  "name": "MSTORE",
                  "dtype": "int64",
                  "stats": {
                    "unique_count": 3,
                    "nan_count": 0,
                    "min": 84,
                    "max": 114,
                    "histogram": [
                      {
                        "bin_start": 84,
                        "bin_end": 87,
                        "count": 1
                      },
                      {
                        "bin_start": 87,
                        "bin_end": 90,
                        "count": 0
                      },
                      {
                        "bin_start": 90,
                        "bin_end": 93,
                        "count": 0
                      },
                      {
                        "bin_start": 93,
                        "bin_end": 96,
                        "count": 0
                      },
                      {
                        "bin_start": 96,
                        "bin_end": 99,
                        "count": 0
                      },
                      {
                        "bin_start": 99,
                        "bin_end": 102,
                        "count": 1
                      },
                      {
                        "bin_start": 102,
                        "bin_end": 105,
                        "count": 0
                      },
                      {
                        "bin_start": 105,
                        "bin_end": 108,
                        "count": 0
                      },
                      {
                        "bin_start": 108,
                        "bin_end": 111,
                        "count": 0
                      },
                      {
                        "bin_start": 111,
                        "bin_end": 114,
                        "count": 1
                      }
                    ]
                  }
                },
                {
                  "name": "POP",
                  "dtype": "int64",
                  "stats": {
                    "unique_count": 3,
                    "nan_count": 0,
                    "min": 121,
                    "max": 160,
                    "histogram": [
                      {
                        "bin_start": 121,
                        "bin_end": 124.9,
                        "count": 1
                      },
                      {
                        "bin_start": 124.9,
                        "bin_end": 128.8,
                        "count": 0
                      },
                      {
                        "bin_start": 128.8,
                        "bin_end": 132.7,
                        "count": 0
                      },
                      {
                        "bin_start": 132.7,
                        "bin_end": 136.6,
                        "count": 0
                      },
                      {
                        "bin_start": 136.6,
                        "bin_end": 140.5,
                        "count": 0
                      },
                      {
                        "bin_start": 140.5,
                        "bin_end": 144.4,
                        "count": 0
                      },
                      {
                        "bin_start": 144.4,
                        "bin_end": 148.3,
                        "count": 0
                      },
                      {
                        "bin_start": 148.3,
                        "bin_end": 152.2,
                        "count": 1
                      },
                      {
                        "bin_start": 152.2,
                        "bin_end": 156.1,
                        "count": 0
                      },
                      {
                        "bin_start": 156.1,
                        "bin_end": 160,
                        "count": 1
                      }
                    ]
                  }
                },
                {
                  "name": "RETURN",
                  "dtype": "int64",
                  "stats": {
                    "unique_count": 3,
                    "nan_count": 0,
                    "min": 11,
                    "max": 23,
                    "histogram": [
                      {
                        "bin_start": 11,
                        "bin_end": 12.2,
                        "count": 2
                      },
                      {
                        "bin_start": 12.2,
                        "bin_end": 13.4,
                        "count": 0
                      },
                      {
                        "bin_start": 13.4,
                        "bin_end": 14.6,
                        "count": 0
                      },
                      {
                        "bin_start": 14.6,
                        "bin_end": 15.8,
                        "count": 0
                      },
                      {
                        "bin_start": 15.8,
                        "bin_end": 17,
                        "count": 0
                      },
                      {
                        "bin_start": 17,
                        "bin_end": 18.2,
                        "count": 0
                      },
                      {
                        "bin_start": 18.2,
                        "bin_end": 19.4,
                        "count": 0
                      },
                      {
                        "bin_start": 19.4,
                        "bin_end": 20.6,
                        "count": 0
                      },
                      {
                        "bin_start": 20.6,
                        "bin_end": 21.799999999999997,
                        "count": 0
                      },
                      {
                        "bin_start": 21.799999999999997,
                        "bin_end": 23,
                        "count": 1
                      }
                    ]
                  }
                },
                {
                  "name": "SSTORE",
                  "dtype": "int64",
                  "stats": {
                    "unique_count": 3,
                    "nan_count": 0,
                    "min": 7,
                    "max": 31,
                    "histogram": [
                      {
                        "bin_start": 7,
                        "bin_end": 9.4,
                        "count": 2
                      },
                      {
                        "bin_start": 9.4,
                        "bin_end": 11.8,
                        "count": 0
                      },
                      {
                        "bin_start": 11.8,
                        "bin_end": 14.2,
                        "count": 0
                      },
                      {
                        "bin_start": 14.2,
                        "bin_end": 16.6,
                        "count": 0
                      },
                      {
                        "bin_start": 16.6,
                        "bin_end": 19,
                        "count": 0
                      },
                      {
                        "bin_start": 19,
                        "bin_end": 21.4,
                        "count": 0
                      },
                      {
                        "bin_start": 21.4,
                        "bin_end": 23.8,
                        "count": 0
                      },
                      {
                        "bin_start": 23.8,
                        "bin_end": 26.2,
                        "count": 0
                      },
                      {
                        "bin_start": 26.2,
                        "bin_end": 28.599999999999998,
                        "count": 0
                      },
                      {
                        "bin_start": 28.599999999999998,
                        "bin_end": 31,
                        "count": 1
                      }
                    ]
                  }
                },
                {
                  "name": "STOP",
                  "dtype": "int64",
                  "stats": {
                    "unique_count": 3,
                    "nan_count": 0,
                    "min": 1,
                    "max": 6,
                    "histogram": [
                      {
                        "bin_start": 1,
                        "bin_end": 1.5,
                        "count": 1
                      },
                      {
                        "bin_start": 1.5,
                        "bin_end": 2,
                        "count": 0
                      },
                      {
                        "bin_start": 2,
                        "bin_end": 2.5,
                        "count": 1
                      },
                      {
                        "bin_start": 2.5,
                        "bin_end": 3,
                        "count": 0
                      },
                      {
                        "bin_start": 3,
                        "bin_end": 3.5,
                        "count": 0
                      },
                      {
                        "bin_start": 3.5,
                        "bin_end": 4,
                        "count": 0
                      },
                      {
                        "bin_start": 4,
                        "bin_end": 4.5,
                        "count": 0
                      },
                      {
                        "bin_start": 4.5,
                        "bin_end": 5,
                        "count": 0
                      },
                      {
                        "bin_start": 5,
                        "bin_end": 5.5,
                        "count": 0
                      },
                      {
                        "bin_start": 5.5,
                        "bin_end": 6,
                        "count": 1
                      }
                    ]
                  }
                },
                {
                  "name": "JUMP",
                  "dtype": "int64",
                  "stats": {
                    "unique_count": 3,
                    "nan_count": 0,
                    "min": 34,
                    "max": 85,
                    "histogram": [
                      {
                        "bin_start": 34,
                        "bin_end": 39.1,
                        "count": 2
                      },
                      {
                        "bin_start": 39.1,
                        "bin_end": 44.2,
                        "count": 0
                      },
                      {
                        "bin_start": 44.2,
                        "bin_end": 49.3,
                        "count": 0
                      },
                      {
                        "bin_start": 49.3,
                        "bin_end": 54.4,
                        "count": 0
                      },
                      {
                        "bin_start": 54.4,
                        "bin_end": 59.5,
                        "count": 0
                      },
                      {
                        "bin_start": 59.5,
                        "bin_end": 64.6,
                        "count": 0
                      },
                      {
                        "bin_start": 64.6,
                        "bin_end": 69.69999999999999,
                        "count": 0
                      },
                      {
                        "bin_start": 69.69999999999999,
                        "bin_end": 74.8,
                        "count": 0
                      },
                      {
                        "bin_start": 74.8,
                        "bin_end": 79.9,
                        "count": 0
                      },
                      {
                        "bin_start": 79.9,
                        "bin_end": 85,
                        "count": 1
                      }
                    ]
                  }
                },
                {
                  "name": "_deepnote_index_column",
                  "dtype": "int64"
                }
              ],
              "rows_top": [
                {
                  "label": 0,
                  "SWAP1": 219,
                  "SWAP2": 73,
                  "DUP9": 5,
                  "DUP12": 360,
                  "MSTORE": 114,
                  "POP": 160,
                  "RETURN": 23,
                  "SSTORE": 31,
                  "STOP": 6,
                  "JUMP": 85,
                  "_deepnote_index_column": 1023
                },
                {
                  "label": 0,
                  "SWAP1": 149,
                  "SWAP2": 73,
                  "DUP9": 0,
                  "DUP12": 279,
                  "MSTORE": 84,
                  "POP": 152,
                  "RETURN": 11,
                  "SSTORE": 7,
                  "STOP": 2,
                  "JUMP": 34,
                  "_deepnote_index_column": 1770
                },
                {
                  "label": 0,
                  "SWAP1": 156,
                  "SWAP2": 80,
                  "DUP9": 2,
                  "DUP12": 250,
                  "MSTORE": 100,
                  "POP": 121,
                  "RETURN": 12,
                  "SSTORE": 9,
                  "STOP": 1,
                  "JUMP": 38,
                  "_deepnote_index_column": 607
                }
              ],
              "rows_bottom": null
            },
            "text/plain": "      label  SWAP1  SWAP2  DUP9  DUP12  MSTORE  POP  RETURN  SSTORE  STOP  \\\n1023      0    219     73     5    360     114  160      23      31     6   \n1770      0    149     73     0    279      84  152      11       7     2   \n607       0    156     80     2    250     100  121      12       9     1   \n\n      JUMP  \n1023    85  \n1770    34  \n607     38  ",
            "text/html": "<div>\n<style scoped>\n    .dataframe tbody tr th:only-of-type {\n        vertical-align: middle;\n    }\n\n    .dataframe tbody tr th {\n        vertical-align: top;\n    }\n\n    .dataframe thead th {\n        text-align: right;\n    }\n</style>\n<table border=\"1\" class=\"dataframe\">\n  <thead>\n    <tr style=\"text-align: right;\">\n      <th></th>\n      <th>label</th>\n      <th>SWAP1</th>\n      <th>SWAP2</th>\n      <th>DUP9</th>\n      <th>DUP12</th>\n      <th>MSTORE</th>\n      <th>POP</th>\n      <th>RETURN</th>\n      <th>SSTORE</th>\n      <th>STOP</th>\n      <th>JUMP</th>\n    </tr>\n  </thead>\n  <tbody>\n    <tr>\n      <th>1023</th>\n      <td>0</td>\n      <td>219</td>\n      <td>73</td>\n      <td>5</td>\n      <td>360</td>\n      <td>114</td>\n      <td>160</td>\n      <td>23</td>\n      <td>31</td>\n      <td>6</td>\n      <td>85</td>\n    </tr>\n    <tr>\n      <th>1770</th>\n      <td>0</td>\n      <td>149</td>\n      <td>73</td>\n      <td>0</td>\n      <td>279</td>\n      <td>84</td>\n      <td>152</td>\n      <td>11</td>\n      <td>7</td>\n      <td>2</td>\n      <td>34</td>\n    </tr>\n    <tr>\n      <th>607</th>\n      <td>0</td>\n      <td>156</td>\n      <td>80</td>\n      <td>2</td>\n      <td>250</td>\n      <td>100</td>\n      <td>121</td>\n      <td>12</td>\n      <td>9</td>\n      <td>1</td>\n      <td>38</td>\n    </tr>\n  </tbody>\n</table>\n</div>"
          },
          "metadata": {}
        }
      ]
    },
    {
      "cell_type": "code",
      "metadata": {
        "tags": [],
        "cell_id": "00022-1fe4611e-9e2c-4ef9-8551-4ab602c43501",
        "deepnote_to_be_reexecuted": false,
        "source_hash": "26390a44",
        "execution_millis": 10,
        "execution_start": 1616941775131,
        "deepnote_cell_type": "code"
      },
      "source": "LogisticRegression().get_params().keys()\n# SGDClassifier().get_params().keys()",
      "execution_count": 47,
      "outputs": [
        {
          "output_type": "execute_result",
          "execution_count": 47,
          "data": {
            "text/plain": "dict_keys(['C', 'class_weight', 'dual', 'fit_intercept', 'intercept_scaling', 'l1_ratio', 'max_iter', 'multi_class', 'n_jobs', 'penalty', 'random_state', 'solver', 'tol', 'verbose', 'warm_start'])"
          },
          "metadata": {}
        }
      ]
    },
    {
      "cell_type": "code",
      "metadata": {
        "tags": [],
        "cell_id": "00019-73d7c1fc-a0c7-4db3-9ee0-b42bec958984",
        "deepnote_to_be_reexecuted": false,
        "source_hash": "c1791993",
        "execution_millis": 22199,
        "execution_start": 1616941644501,
        "deepnote_cell_type": "code"
      },
      "source": "from sklearn.linear_model import LogisticRegression\nfrom sklearn.linear_model import SGDClassifier\n\n\npipe = make_pipeline(LogisticRegression())\nparam_grid = {'logisticregression__C': [0.01, 0.1, 1, 10, 100]} \n\ncv = StratifiedShuffleSplit(n_splits=20, test_size=0.2, random_state=42)\n# Chose the stratified shuffle because it results in stratified randomized folds which retain the sample percentage for each class \n\ngrid = GridSearchCV(pipe, param_grid, cv=cv, scoring = 'recall') \ngrid.fit(X_train, y_train)\n\n# Finding the optimal value for the C parameter of the logistic regression\n\nprint(\"Best cross-validation accuracy: {:.2f}\".format(grid.best_score_)) \nprint(\"Test set score: {:.2f}\".format(grid.score(X_test, y_test))) \nprint(\"Best parameters: {}\".format(grid.best_params_))\n",
      "execution_count": 23,
      "outputs": [
        {
          "name": "stderr",
          "text": "/shared-libs/python3.7/py/lib/python3.7/site-packages/sklearn/linear_model/_logistic.py:765: ConvergenceWarning: lbfgs failed to converge (status=1):\nSTOP: TOTAL NO. of ITERATIONS REACHED LIMIT.\n\nIncrease the number of iterations (max_iter) or scale the data as shown in:\n    https://scikit-learn.org/stable/modules/preprocessing.html\nPlease also refer to the documentation for alternative solver options:\n    https://scikit-learn.org/stable/modules/linear_model.html#logistic-regression\n  extra_warning_msg=_LOGISTIC_SOLVER_CONVERGENCE_MSG)\n/shared-libs/python3.7/py/lib/python3.7/site-packages/sklearn/linear_model/_logistic.py:765: ConvergenceWarning: lbfgs failed to converge (status=1):\nSTOP: TOTAL NO. of ITERATIONS REACHED LIMIT.\n\nIncrease the number of iterations (max_iter) or scale the data as shown in:\n    https://scikit-learn.org/stable/modules/preprocessing.html\nPlease also refer to the documentation for alternative solver options:\n    https://scikit-learn.org/stable/modules/linear_model.html#logistic-regression\n  extra_warning_msg=_LOGISTIC_SOLVER_CONVERGENCE_MSG)\n/shared-libs/python3.7/py/lib/python3.7/site-packages/sklearn/linear_model/_logistic.py:765: ConvergenceWarning: lbfgs failed to converge (status=1):\nSTOP: TOTAL NO. of ITERATIONS REACHED LIMIT.\n\nIncrease the number of iterations (max_iter) or scale the data as shown in:\n    https://scikit-learn.org/stable/modules/preprocessing.html\nPlease also refer to the documentation for alternative solver options:\n    https://scikit-learn.org/stable/modules/linear_model.html#logistic-regression\n  extra_warning_msg=_LOGISTIC_SOLVER_CONVERGENCE_MSG)\n/shared-libs/python3.7/py/lib/python3.7/site-packages/sklearn/linear_model/_logistic.py:765: ConvergenceWarning: lbfgs failed to converge (status=1):\nSTOP: TOTAL NO. of ITERATIONS REACHED LIMIT.\n\nIncrease the number of iterations (max_iter) or scale the data as shown in:\n    https://scikit-learn.org/stable/modules/preprocessing.html\nPlease also refer to the documentation for alternative solver options:\n    https://scikit-learn.org/stable/modules/linear_model.html#logistic-regression\n  extra_warning_msg=_LOGISTIC_SOLVER_CONVERGENCE_MSG)\n/shared-libs/python3.7/py/lib/python3.7/site-packages/sklearn/linear_model/_logistic.py:765: ConvergenceWarning: lbfgs failed to converge (status=1):\nSTOP: TOTAL NO. of ITERATIONS REACHED LIMIT.\n\nIncrease the number of iterations (max_iter) or scale the data as shown in:\n    https://scikit-learn.org/stable/modules/preprocessing.html\nPlease also refer to the documentation for alternative solver options:\n    https://scikit-learn.org/stable/modules/linear_model.html#logistic-regression\n  extra_warning_msg=_LOGISTIC_SOLVER_CONVERGENCE_MSG)\n/shared-libs/python3.7/py/lib/python3.7/site-packages/sklearn/linear_model/_logistic.py:765: ConvergenceWarning: lbfgs failed to converge (status=1):\nSTOP: TOTAL NO. of ITERATIONS REACHED LIMIT.\n\nIncrease the number of iterations (max_iter) or scale the data as shown in:\n    https://scikit-learn.org/stable/modules/preprocessing.html\nPlease also refer to the documentation for alternative solver options:\n    https://scikit-learn.org/stable/modules/linear_model.html#logistic-regression\n  extra_warning_msg=_LOGISTIC_SOLVER_CONVERGENCE_MSG)\n/shared-libs/python3.7/py/lib/python3.7/site-packages/sklearn/linear_model/_logistic.py:765: ConvergenceWarning: lbfgs failed to converge (status=1):\nSTOP: TOTAL NO. of ITERATIONS REACHED LIMIT.\n\nIncrease the number of iterations (max_iter) or scale the data as shown in:\n    https://scikit-learn.org/stable/modules/preprocessing.html\nPlease also refer to the documentation for alternative solver options:\n    https://scikit-learn.org/stable/modules/linear_model.html#logistic-regression\n  extra_warning_msg=_LOGISTIC_SOLVER_CONVERGENCE_MSG)\n/shared-libs/python3.7/py/lib/python3.7/site-packages/sklearn/linear_model/_logistic.py:765: ConvergenceWarning: lbfgs failed to converge (status=1):\nSTOP: TOTAL NO. of ITERATIONS REACHED LIMIT.\n\nIncrease the number of iterations (max_iter) or scale the data as shown in:\n    https://scikit-learn.org/stable/modules/preprocessing.html\nPlease also refer to the documentation for alternative solver options:\n    https://scikit-learn.org/stable/modules/linear_model.html#logistic-regression\n  extra_warning_msg=_LOGISTIC_SOLVER_CONVERGENCE_MSG)\n/shared-libs/python3.7/py/lib/python3.7/site-packages/sklearn/linear_model/_logistic.py:765: ConvergenceWarning: lbfgs failed to converge (status=1):\nSTOP: TOTAL NO. of ITERATIONS REACHED LIMIT.\n\nIncrease the number of iterations (max_iter) or scale the data as shown in:\n    https://scikit-learn.org/stable/modules/preprocessing.html\nPlease also refer to the documentation for alternative solver options:\n    https://scikit-learn.org/stable/modules/linear_model.html#logistic-regression\n  extra_warning_msg=_LOGISTIC_SOLVER_CONVERGENCE_MSG)\n/shared-libs/python3.7/py/lib/python3.7/site-packages/sklearn/linear_model/_logistic.py:765: ConvergenceWarning: lbfgs failed to converge (status=1):\nSTOP: TOTAL NO. of ITERATIONS REACHED LIMIT.\n\nIncrease the number of iterations (max_iter) or scale the data as shown in:\n    https://scikit-learn.org/stable/modules/preprocessing.html\nPlease also refer to the documentation for alternative solver options:\n    https://scikit-learn.org/stable/modules/linear_model.html#logistic-regression\n  extra_warning_msg=_LOGISTIC_SOLVER_CONVERGENCE_MSG)\n/shared-libs/python3.7/py/lib/python3.7/site-packages/sklearn/linear_model/_logistic.py:765: ConvergenceWarning: lbfgs failed to converge (status=1):\nSTOP: TOTAL NO. of ITERATIONS REACHED LIMIT.\n\nIncrease the number of iterations (max_iter) or scale the data as shown in:\n    https://scikit-learn.org/stable/modules/preprocessing.html\nPlease also refer to the documentation for alternative solver options:\n    https://scikit-learn.org/stable/modules/linear_model.html#logistic-regression\n  extra_warning_msg=_LOGISTIC_SOLVER_CONVERGENCE_MSG)\n/shared-libs/python3.7/py/lib/python3.7/site-packages/sklearn/linear_model/_logistic.py:765: ConvergenceWarning: lbfgs failed to converge (status=1):\nSTOP: TOTAL NO. of ITERATIONS REACHED LIMIT.\n\nIncrease the number of iterations (max_iter) or scale the data as shown in:\n    https://scikit-learn.org/stable/modules/preprocessing.html\nPlease also refer to the documentation for alternative solver options:\n    https://scikit-learn.org/stable/modules/linear_model.html#logistic-regression\n  extra_warning_msg=_LOGISTIC_SOLVER_CONVERGENCE_MSG)\n/shared-libs/python3.7/py/lib/python3.7/site-packages/sklearn/linear_model/_logistic.py:765: ConvergenceWarning: lbfgs failed to converge (status=1):\nSTOP: TOTAL NO. of ITERATIONS REACHED LIMIT.\n\nIncrease the number of iterations (max_iter) or scale the data as shown in:\n    https://scikit-learn.org/stable/modules/preprocessing.html\nPlease also refer to the documentation for alternative solver options:\n    https://scikit-learn.org/stable/modules/linear_model.html#logistic-regression\n  extra_warning_msg=_LOGISTIC_SOLVER_CONVERGENCE_MSG)\n/shared-libs/python3.7/py/lib/python3.7/site-packages/sklearn/linear_model/_logistic.py:765: ConvergenceWarning: lbfgs failed to converge (status=1):\nSTOP: TOTAL NO. of ITERATIONS REACHED LIMIT.\n\nIncrease the number of iterations (max_iter) or scale the data as shown in:\n    https://scikit-learn.org/stable/modules/preprocessing.html\nPlease also refer to the documentation for alternative solver options:\n    https://scikit-learn.org/stable/modules/linear_model.html#logistic-regression\n  extra_warning_msg=_LOGISTIC_SOLVER_CONVERGENCE_MSG)\n/shared-libs/python3.7/py/lib/python3.7/site-packages/sklearn/linear_model/_logistic.py:765: ConvergenceWarning: lbfgs failed to converge (status=1):\nSTOP: TOTAL NO. of ITERATIONS REACHED LIMIT.\n\nIncrease the number of iterations (max_iter) or scale the data as shown in:\n    https://scikit-learn.org/stable/modules/preprocessing.html\nPlease also refer to the documentation for alternative solver options:\n    https://scikit-learn.org/stable/modules/linear_model.html#logistic-regression\n  extra_warning_msg=_LOGISTIC_SOLVER_CONVERGENCE_MSG)\n/shared-libs/python3.7/py/lib/python3.7/site-packages/sklearn/linear_model/_logistic.py:765: ConvergenceWarning: lbfgs failed to converge (status=1):\nSTOP: TOTAL NO. of ITERATIONS REACHED LIMIT.\n\nIncrease the number of iterations (max_iter) or scale the data as shown in:\n    https://scikit-learn.org/stable/modules/preprocessing.html\nPlease also refer to the documentation for alternative solver options:\n    https://scikit-learn.org/stable/modules/linear_model.html#logistic-regression\n  extra_warning_msg=_LOGISTIC_SOLVER_CONVERGENCE_MSG)\n/shared-libs/python3.7/py/lib/python3.7/site-packages/sklearn/linear_model/_logistic.py:765: ConvergenceWarning: lbfgs failed to converge (status=1):\nSTOP: TOTAL NO. of ITERATIONS REACHED LIMIT.\n\nIncrease the number of iterations (max_iter) or scale the data as shown in:\n    https://scikit-learn.org/stable/modules/preprocessing.html\nPlease also refer to the documentation for alternative solver options:\n    https://scikit-learn.org/stable/modules/linear_model.html#logistic-regression\n  extra_warning_msg=_LOGISTIC_SOLVER_CONVERGENCE_MSG)\n/shared-libs/python3.7/py/lib/python3.7/site-packages/sklearn/linear_model/_logistic.py:765: ConvergenceWarning: lbfgs failed to converge (status=1):\nSTOP: TOTAL NO. of ITERATIONS REACHED LIMIT.\n\nIncrease the number of iterations (max_iter) or scale the data as shown in:\n    https://scikit-learn.org/stable/modules/preprocessing.html\nPlease also refer to the documentation for alternative solver options:\n    https://scikit-learn.org/stable/modules/linear_model.html#logistic-regression\n  extra_warning_msg=_LOGISTIC_SOLVER_CONVERGENCE_MSG)\n/shared-libs/python3.7/py/lib/python3.7/site-packages/sklearn/linear_model/_logistic.py:765: ConvergenceWarning: lbfgs failed to converge (status=1):\nSTOP: TOTAL NO. of ITERATIONS REACHED LIMIT.\n\nIncrease the number of iterations (max_iter) or scale the data as shown in:\n    https://scikit-learn.org/stable/modules/preprocessing.html\nPlease also refer to the documentation for alternative solver options:\n    https://scikit-learn.org/stable/modules/linear_model.html#logistic-regression\n  extra_warning_msg=_LOGISTIC_SOLVER_CONVERGENCE_MSG)\n/shared-libs/python3.7/py/lib/python3.7/site-packages/sklearn/linear_model/_logistic.py:765: ConvergenceWarning: lbfgs failed to converge (status=1):\nSTOP: TOTAL NO. of ITERATIONS REACHED LIMIT.\n\nIncrease the number of iterations (max_iter) or scale the data as shown in:\n    https://scikit-learn.org/stable/modules/preprocessing.html\nPlease also refer to the documentation for alternative solver options:\n    https://scikit-learn.org/stable/modules/linear_model.html#logistic-regression\n  extra_warning_msg=_LOGISTIC_SOLVER_CONVERGENCE_MSG)\n/shared-libs/python3.7/py/lib/python3.7/site-packages/sklearn/linear_model/_logistic.py:765: ConvergenceWarning: lbfgs failed to converge (status=1):\nSTOP: TOTAL NO. of ITERATIONS REACHED LIMIT.\n\nIncrease the number of iterations (max_iter) or scale the data as shown in:\n    https://scikit-learn.org/stable/modules/preprocessing.html\nPlease also refer to the documentation for alternative solver options:\n    https://scikit-learn.org/stable/modules/linear_model.html#logistic-regression\n  extra_warning_msg=_LOGISTIC_SOLVER_CONVERGENCE_MSG)\n/shared-libs/python3.7/py/lib/python3.7/site-packages/sklearn/linear_model/_logistic.py:765: ConvergenceWarning: lbfgs failed to converge (status=1):\nSTOP: TOTAL NO. of ITERATIONS REACHED LIMIT.\n\nIncrease the number of iterations (max_iter) or scale the data as shown in:\n    https://scikit-learn.org/stable/modules/preprocessing.html\nPlease also refer to the documentation for alternative solver options:\n    https://scikit-learn.org/stable/modules/linear_model.html#logistic-regression\n  extra_warning_msg=_LOGISTIC_SOLVER_CONVERGENCE_MSG)\n/shared-libs/python3.7/py/lib/python3.7/site-packages/sklearn/linear_model/_logistic.py:765: ConvergenceWarning: lbfgs failed to converge (status=1):\nSTOP: TOTAL NO. of ITERATIONS REACHED LIMIT.\n\nIncrease the number of iterations (max_iter) or scale the data as shown in:\n    https://scikit-learn.org/stable/modules/preprocessing.html\nPlease also refer to the documentation for alternative solver options:\n    https://scikit-learn.org/stable/modules/linear_model.html#logistic-regression\n  extra_warning_msg=_LOGISTIC_SOLVER_CONVERGENCE_MSG)\n/shared-libs/python3.7/py/lib/python3.7/site-packages/sklearn/linear_model/_logistic.py:765: ConvergenceWarning: lbfgs failed to converge (status=1):\nSTOP: TOTAL NO. of ITERATIONS REACHED LIMIT.\n\nIncrease the number of iterations (max_iter) or scale the data as shown in:\n    https://scikit-learn.org/stable/modules/preprocessing.html\nPlease also refer to the documentation for alternative solver options:\n    https://scikit-learn.org/stable/modules/linear_model.html#logistic-regression\n  extra_warning_msg=_LOGISTIC_SOLVER_CONVERGENCE_MSG)\n/shared-libs/python3.7/py/lib/python3.7/site-packages/sklearn/linear_model/_logistic.py:765: ConvergenceWarning: lbfgs failed to converge (status=1):\nSTOP: TOTAL NO. of ITERATIONS REACHED LIMIT.\n\nIncrease the number of iterations (max_iter) or scale the data as shown in:\n    https://scikit-learn.org/stable/modules/preprocessing.html\nPlease also refer to the documentation for alternative solver options:\n    https://scikit-learn.org/stable/modules/linear_model.html#logistic-regression\n  extra_warning_msg=_LOGISTIC_SOLVER_CONVERGENCE_MSG)\n/shared-libs/python3.7/py/lib/python3.7/site-packages/sklearn/linear_model/_logistic.py:765: ConvergenceWarning: lbfgs failed to converge (status=1):\nSTOP: TOTAL NO. of ITERATIONS REACHED LIMIT.\n\nIncrease the number of iterations (max_iter) or scale the data as shown in:\n    https://scikit-learn.org/stable/modules/preprocessing.html\nPlease also refer to the documentation for alternative solver options:\n    https://scikit-learn.org/stable/modules/linear_model.html#logistic-regression\n  extra_warning_msg=_LOGISTIC_SOLVER_CONVERGENCE_MSG)\n/shared-libs/python3.7/py/lib/python3.7/site-packages/sklearn/linear_model/_logistic.py:765: ConvergenceWarning: lbfgs failed to converge (status=1):\nSTOP: TOTAL NO. of ITERATIONS REACHED LIMIT.\n\nIncrease the number of iterations (max_iter) or scale the data as shown in:\n    https://scikit-learn.org/stable/modules/preprocessing.html\nPlease also refer to the documentation for alternative solver options:\n    https://scikit-learn.org/stable/modules/linear_model.html#logistic-regression\n  extra_warning_msg=_LOGISTIC_SOLVER_CONVERGENCE_MSG)\n/shared-libs/python3.7/py/lib/python3.7/site-packages/sklearn/linear_model/_logistic.py:765: ConvergenceWarning: lbfgs failed to converge (status=1):\nSTOP: TOTAL NO. of ITERATIONS REACHED LIMIT.\n\nIncrease the number of iterations (max_iter) or scale the data as shown in:\n    https://scikit-learn.org/stable/modules/preprocessing.html\nPlease also refer to the documentation for alternative solver options:\n    https://scikit-learn.org/stable/modules/linear_model.html#logistic-regression\n  extra_warning_msg=_LOGISTIC_SOLVER_CONVERGENCE_MSG)\n/shared-libs/python3.7/py/lib/python3.7/site-packages/sklearn/linear_model/_logistic.py:765: ConvergenceWarning: lbfgs failed to converge (status=1):\nSTOP: TOTAL NO. of ITERATIONS REACHED LIMIT.\n\nIncrease the number of iterations (max_iter) or scale the data as shown in:\n    https://scikit-learn.org/stable/modules/preprocessing.html\nPlease also refer to the documentation for alternative solver options:\n    https://scikit-learn.org/stable/modules/linear_model.html#logistic-regression\n  extra_warning_msg=_LOGISTIC_SOLVER_CONVERGENCE_MSG)\n/shared-libs/python3.7/py/lib/python3.7/site-packages/sklearn/linear_model/_logistic.py:765: ConvergenceWarning: lbfgs failed to converge (status=1):\nSTOP: TOTAL NO. of ITERATIONS REACHED LIMIT.\n\nIncrease the number of iterations (max_iter) or scale the data as shown in:\n    https://scikit-learn.org/stable/modules/preprocessing.html\nPlease also refer to the documentation for alternative solver options:\n    https://scikit-learn.org/stable/modules/linear_model.html#logistic-regression\n  extra_warning_msg=_LOGISTIC_SOLVER_CONVERGENCE_MSG)\n/shared-libs/python3.7/py/lib/python3.7/site-packages/sklearn/linear_model/_logistic.py:765: ConvergenceWarning: lbfgs failed to converge (status=1):\nSTOP: TOTAL NO. of ITERATIONS REACHED LIMIT.\n\nIncrease the number of iterations (max_iter) or scale the data as shown in:\n    https://scikit-learn.org/stable/modules/preprocessing.html\nPlease also refer to the documentation for alternative solver options:\n    https://scikit-learn.org/stable/modules/linear_model.html#logistic-regression\n  extra_warning_msg=_LOGISTIC_SOLVER_CONVERGENCE_MSG)\n/shared-libs/python3.7/py/lib/python3.7/site-packages/sklearn/linear_model/_logistic.py:765: ConvergenceWarning: lbfgs failed to converge (status=1):\nSTOP: TOTAL NO. of ITERATIONS REACHED LIMIT.\n\nIncrease the number of iterations (max_iter) or scale the data as shown in:\n    https://scikit-learn.org/stable/modules/preprocessing.html\nPlease also refer to the documentation for alternative solver options:\n    https://scikit-learn.org/stable/modules/linear_model.html#logistic-regression\n  extra_warning_msg=_LOGISTIC_SOLVER_CONVERGENCE_MSG)\n/shared-libs/python3.7/py/lib/python3.7/site-packages/sklearn/linear_model/_logistic.py:765: ConvergenceWarning: lbfgs failed to converge (status=1):\nSTOP: TOTAL NO. of ITERATIONS REACHED LIMIT.\n\nIncrease the number of iterations (max_iter) or scale the data as shown in:\n    https://scikit-learn.org/stable/modules/preprocessing.html\nPlease also refer to the documentation for alternative solver options:\n    https://scikit-learn.org/stable/modules/linear_model.html#logistic-regression\n  extra_warning_msg=_LOGISTIC_SOLVER_CONVERGENCE_MSG)\n/shared-libs/python3.7/py/lib/python3.7/site-packages/sklearn/linear_model/_logistic.py:765: ConvergenceWarning: lbfgs failed to converge (status=1):\nSTOP: TOTAL NO. of ITERATIONS REACHED LIMIT.\n\nIncrease the number of iterations (max_iter) or scale the data as shown in:\n    https://scikit-learn.org/stable/modules/preprocessing.html\nPlease also refer to the documentation for alternative solver options:\n    https://scikit-learn.org/stable/modules/linear_model.html#logistic-regression\n  extra_warning_msg=_LOGISTIC_SOLVER_CONVERGENCE_MSG)\n/shared-libs/python3.7/py/lib/python3.7/site-packages/sklearn/linear_model/_logistic.py:765: ConvergenceWarning: lbfgs failed to converge (status=1):\nSTOP: TOTAL NO. of ITERATIONS REACHED LIMIT.\n\nIncrease the number of iterations (max_iter) or scale the data as shown in:\n    https://scikit-learn.org/stable/modules/preprocessing.html\nPlease also refer to the documentation for alternative solver options:\n    https://scikit-learn.org/stable/modules/linear_model.html#logistic-regression\n  extra_warning_msg=_LOGISTIC_SOLVER_CONVERGENCE_MSG)\n/shared-libs/python3.7/py/lib/python3.7/site-packages/sklearn/linear_model/_logistic.py:765: ConvergenceWarning: lbfgs failed to converge (status=1):\nSTOP: TOTAL NO. of ITERATIONS REACHED LIMIT.\n\nIncrease the number of iterations (max_iter) or scale the data as shown in:\n    https://scikit-learn.org/stable/modules/preprocessing.html\nPlease also refer to the documentation for alternative solver options:\n    https://scikit-learn.org/stable/modules/linear_model.html#logistic-regression\n  extra_warning_msg=_LOGISTIC_SOLVER_CONVERGENCE_MSG)\n/shared-libs/python3.7/py/lib/python3.7/site-packages/sklearn/linear_model/_logistic.py:765: ConvergenceWarning: lbfgs failed to converge (status=1):\nSTOP: TOTAL NO. of ITERATIONS REACHED LIMIT.\n\nIncrease the number of iterations (max_iter) or scale the data as shown in:\n    https://scikit-learn.org/stable/modules/preprocessing.html\nPlease also refer to the documentation for alternative solver options:\n    https://scikit-learn.org/stable/modules/linear_model.html#logistic-regression\n  extra_warning_msg=_LOGISTIC_SOLVER_CONVERGENCE_MSG)\n/shared-libs/python3.7/py/lib/python3.7/site-packages/sklearn/linear_model/_logistic.py:765: ConvergenceWarning: lbfgs failed to converge (status=1):\nSTOP: TOTAL NO. of ITERATIONS REACHED LIMIT.\n\nIncrease the number of iterations (max_iter) or scale the data as shown in:\n    https://scikit-learn.org/stable/modules/preprocessing.html\nPlease also refer to the documentation for alternative solver options:\n    https://scikit-learn.org/stable/modules/linear_model.html#logistic-regression\n  extra_warning_msg=_LOGISTIC_SOLVER_CONVERGENCE_MSG)\n/shared-libs/python3.7/py/lib/python3.7/site-packages/sklearn/linear_model/_logistic.py:765: ConvergenceWarning: lbfgs failed to converge (status=1):\nSTOP: TOTAL NO. of ITERATIONS REACHED LIMIT.\n\nIncrease the number of iterations (max_iter) or scale the data as shown in:\n    https://scikit-learn.org/stable/modules/preprocessing.html\nPlease also refer to the documentation for alternative solver options:\n    https://scikit-learn.org/stable/modules/linear_model.html#logistic-regression\n  extra_warning_msg=_LOGISTIC_SOLVER_CONVERGENCE_MSG)\n/shared-libs/python3.7/py/lib/python3.7/site-packages/sklearn/linear_model/_logistic.py:765: ConvergenceWarning: lbfgs failed to converge (status=1):\nSTOP: TOTAL NO. of ITERATIONS REACHED LIMIT.\n\nIncrease the number of iterations (max_iter) or scale the data as shown in:\n    https://scikit-learn.org/stable/modules/preprocessing.html\nPlease also refer to the documentation for alternative solver options:\n    https://scikit-learn.org/stable/modules/linear_model.html#logistic-regression\n  extra_warning_msg=_LOGISTIC_SOLVER_CONVERGENCE_MSG)\n/shared-libs/python3.7/py/lib/python3.7/site-packages/sklearn/linear_model/_logistic.py:765: ConvergenceWarning: lbfgs failed to converge (status=1):\nSTOP: TOTAL NO. of ITERATIONS REACHED LIMIT.\n\nIncrease the number of iterations (max_iter) or scale the data as shown in:\n    https://scikit-learn.org/stable/modules/preprocessing.html\nPlease also refer to the documentation for alternative solver options:\n    https://scikit-learn.org/stable/modules/linear_model.html#logistic-regression\n  extra_warning_msg=_LOGISTIC_SOLVER_CONVERGENCE_MSG)\n/shared-libs/python3.7/py/lib/python3.7/site-packages/sklearn/linear_model/_logistic.py:765: ConvergenceWarning: lbfgs failed to converge (status=1):\nSTOP: TOTAL NO. of ITERATIONS REACHED LIMIT.\n\nIncrease the number of iterations (max_iter) or scale the data as shown in:\n    https://scikit-learn.org/stable/modules/preprocessing.html\nPlease also refer to the documentation for alternative solver options:\n    https://scikit-learn.org/stable/modules/linear_model.html#logistic-regression\n  extra_warning_msg=_LOGISTIC_SOLVER_CONVERGENCE_MSG)\n/shared-libs/python3.7/py/lib/python3.7/site-packages/sklearn/linear_model/_logistic.py:765: ConvergenceWarning: lbfgs failed to converge (status=1):\nSTOP: TOTAL NO. of ITERATIONS REACHED LIMIT.\n\nIncrease the number of iterations (max_iter) or scale the data as shown in:\n    https://scikit-learn.org/stable/modules/preprocessing.html\nPlease also refer to the documentation for alternative solver options:\n    https://scikit-learn.org/stable/modules/linear_model.html#logistic-regression\n  extra_warning_msg=_LOGISTIC_SOLVER_CONVERGENCE_MSG)\n/shared-libs/python3.7/py/lib/python3.7/site-packages/sklearn/linear_model/_logistic.py:765: ConvergenceWarning: lbfgs failed to converge (status=1):\nSTOP: TOTAL NO. of ITERATIONS REACHED LIMIT.\n\nIncrease the number of iterations (max_iter) or scale the data as shown in:\n    https://scikit-learn.org/stable/modules/preprocessing.html\nPlease also refer to the documentation for alternative solver options:\n    https://scikit-learn.org/stable/modules/linear_model.html#logistic-regression\n  extra_warning_msg=_LOGISTIC_SOLVER_CONVERGENCE_MSG)\n/shared-libs/python3.7/py/lib/python3.7/site-packages/sklearn/linear_model/_logistic.py:765: ConvergenceWarning: lbfgs failed to converge (status=1):\nSTOP: TOTAL NO. of ITERATIONS REACHED LIMIT.\n\nIncrease the number of iterations (max_iter) or scale the data as shown in:\n    https://scikit-learn.org/stable/modules/preprocessing.html\nPlease also refer to the documentation for alternative solver options:\n    https://scikit-learn.org/stable/modules/linear_model.html#logistic-regression\n  extra_warning_msg=_LOGISTIC_SOLVER_CONVERGENCE_MSG)\n/shared-libs/python3.7/py/lib/python3.7/site-packages/sklearn/linear_model/_logistic.py:765: ConvergenceWarning: lbfgs failed to converge (status=1):\nSTOP: TOTAL NO. of ITERATIONS REACHED LIMIT.\n\nIncrease the number of iterations (max_iter) or scale the data as shown in:\n    https://scikit-learn.org/stable/modules/preprocessing.html\nPlease also refer to the documentation for alternative solver options:\n    https://scikit-learn.org/stable/modules/linear_model.html#logistic-regression\n  extra_warning_msg=_LOGISTIC_SOLVER_CONVERGENCE_MSG)\n/shared-libs/python3.7/py/lib/python3.7/site-packages/sklearn/linear_model/_logistic.py:765: ConvergenceWarning: lbfgs failed to converge (status=1):\nSTOP: TOTAL NO. of ITERATIONS REACHED LIMIT.\n\nIncrease the number of iterations (max_iter) or scale the data as shown in:\n    https://scikit-learn.org/stable/modules/preprocessing.html\nPlease also refer to the documentation for alternative solver options:\n    https://scikit-learn.org/stable/modules/linear_model.html#logistic-regression\n  extra_warning_msg=_LOGISTIC_SOLVER_CONVERGENCE_MSG)\n/shared-libs/python3.7/py/lib/python3.7/site-packages/sklearn/linear_model/_logistic.py:765: ConvergenceWarning: lbfgs failed to converge (status=1):\nSTOP: TOTAL NO. of ITERATIONS REACHED LIMIT.\n\nIncrease the number of iterations (max_iter) or scale the data as shown in:\n    https://scikit-learn.org/stable/modules/preprocessing.html\nPlease also refer to the documentation for alternative solver options:\n    https://scikit-learn.org/stable/modules/linear_model.html#logistic-regression\n  extra_warning_msg=_LOGISTIC_SOLVER_CONVERGENCE_MSG)\n/shared-libs/python3.7/py/lib/python3.7/site-packages/sklearn/linear_model/_logistic.py:765: ConvergenceWarning: lbfgs failed to converge (status=1):\nSTOP: TOTAL NO. of ITERATIONS REACHED LIMIT.\n\nIncrease the number of iterations (max_iter) or scale the data as shown in:\n    https://scikit-learn.org/stable/modules/preprocessing.html\nPlease also refer to the documentation for alternative solver options:\n    https://scikit-learn.org/stable/modules/linear_model.html#logistic-regression\n  extra_warning_msg=_LOGISTIC_SOLVER_CONVERGENCE_MSG)\n/shared-libs/python3.7/py/lib/python3.7/site-packages/sklearn/linear_model/_logistic.py:765: ConvergenceWarning: lbfgs failed to converge (status=1):\nSTOP: TOTAL NO. of ITERATIONS REACHED LIMIT.\n\nIncrease the number of iterations (max_iter) or scale the data as shown in:\n    https://scikit-learn.org/stable/modules/preprocessing.html\nPlease also refer to the documentation for alternative solver options:\n    https://scikit-learn.org/stable/modules/linear_model.html#logistic-regression\n  extra_warning_msg=_LOGISTIC_SOLVER_CONVERGENCE_MSG)\n/shared-libs/python3.7/py/lib/python3.7/site-packages/sklearn/linear_model/_logistic.py:765: ConvergenceWarning: lbfgs failed to converge (status=1):\nSTOP: TOTAL NO. of ITERATIONS REACHED LIMIT.\n\nIncrease the number of iterations (max_iter) or scale the data as shown in:\n    https://scikit-learn.org/stable/modules/preprocessing.html\nPlease also refer to the documentation for alternative solver options:\n    https://scikit-learn.org/stable/modules/linear_model.html#logistic-regression\n  extra_warning_msg=_LOGISTIC_SOLVER_CONVERGENCE_MSG)\n/shared-libs/python3.7/py/lib/python3.7/site-packages/sklearn/linear_model/_logistic.py:765: ConvergenceWarning: lbfgs failed to converge (status=1):\nSTOP: TOTAL NO. of ITERATIONS REACHED LIMIT.\n\nIncrease the number of iterations (max_iter) or scale the data as shown in:\n    https://scikit-learn.org/stable/modules/preprocessing.html\nPlease also refer to the documentation for alternative solver options:\n    https://scikit-learn.org/stable/modules/linear_model.html#logistic-regression\n  extra_warning_msg=_LOGISTIC_SOLVER_CONVERGENCE_MSG)\n/shared-libs/python3.7/py/lib/python3.7/site-packages/sklearn/linear_model/_logistic.py:765: ConvergenceWarning: lbfgs failed to converge (status=1):\nSTOP: TOTAL NO. of ITERATIONS REACHED LIMIT.\n\nIncrease the number of iterations (max_iter) or scale the data as shown in:\n    https://scikit-learn.org/stable/modules/preprocessing.html\nPlease also refer to the documentation for alternative solver options:\n    https://scikit-learn.org/stable/modules/linear_model.html#logistic-regression\n  extra_warning_msg=_LOGISTIC_SOLVER_CONVERGENCE_MSG)\n/shared-libs/python3.7/py/lib/python3.7/site-packages/sklearn/linear_model/_logistic.py:765: ConvergenceWarning: lbfgs failed to converge (status=1):\nSTOP: TOTAL NO. of ITERATIONS REACHED LIMIT.\n\nIncrease the number of iterations (max_iter) or scale the data as shown in:\n    https://scikit-learn.org/stable/modules/preprocessing.html\nPlease also refer to the documentation for alternative solver options:\n    https://scikit-learn.org/stable/modules/linear_model.html#logistic-regression\n  extra_warning_msg=_LOGISTIC_SOLVER_CONVERGENCE_MSG)\n/shared-libs/python3.7/py/lib/python3.7/site-packages/sklearn/linear_model/_logistic.py:765: ConvergenceWarning: lbfgs failed to converge (status=1):\nSTOP: TOTAL NO. of ITERATIONS REACHED LIMIT.\n\nIncrease the number of iterations (max_iter) or scale the data as shown in:\n    https://scikit-learn.org/stable/modules/preprocessing.html\nPlease also refer to the documentation for alternative solver options:\n    https://scikit-learn.org/stable/modules/linear_model.html#logistic-regression\n  extra_warning_msg=_LOGISTIC_SOLVER_CONVERGENCE_MSG)\n/shared-libs/python3.7/py/lib/python3.7/site-packages/sklearn/linear_model/_logistic.py:765: ConvergenceWarning: lbfgs failed to converge (status=1):\nSTOP: TOTAL NO. of ITERATIONS REACHED LIMIT.\n\nIncrease the number of iterations (max_iter) or scale the data as shown in:\n    https://scikit-learn.org/stable/modules/preprocessing.html\nPlease also refer to the documentation for alternative solver options:\n    https://scikit-learn.org/stable/modules/linear_model.html#logistic-regression\n  extra_warning_msg=_LOGISTIC_SOLVER_CONVERGENCE_MSG)\n/shared-libs/python3.7/py/lib/python3.7/site-packages/sklearn/linear_model/_logistic.py:765: ConvergenceWarning: lbfgs failed to converge (status=1):\nSTOP: TOTAL NO. of ITERATIONS REACHED LIMIT.\n\nIncrease the number of iterations (max_iter) or scale the data as shown in:\n    https://scikit-learn.org/stable/modules/preprocessing.html\nPlease also refer to the documentation for alternative solver options:\n    https://scikit-learn.org/stable/modules/linear_model.html#logistic-regression\n  extra_warning_msg=_LOGISTIC_SOLVER_CONVERGENCE_MSG)\n/shared-libs/python3.7/py/lib/python3.7/site-packages/sklearn/linear_model/_logistic.py:765: ConvergenceWarning: lbfgs failed to converge (status=1):\nSTOP: TOTAL NO. of ITERATIONS REACHED LIMIT.\n\nIncrease the number of iterations (max_iter) or scale the data as shown in:\n    https://scikit-learn.org/stable/modules/preprocessing.html\nPlease also refer to the documentation for alternative solver options:\n    https://scikit-learn.org/stable/modules/linear_model.html#logistic-regression\n  extra_warning_msg=_LOGISTIC_SOLVER_CONVERGENCE_MSG)\n/shared-libs/python3.7/py/lib/python3.7/site-packages/sklearn/linear_model/_logistic.py:765: ConvergenceWarning: lbfgs failed to converge (status=1):\nSTOP: TOTAL NO. of ITERATIONS REACHED LIMIT.\n\nIncrease the number of iterations (max_iter) or scale the data as shown in:\n    https://scikit-learn.org/stable/modules/preprocessing.html\nPlease also refer to the documentation for alternative solver options:\n    https://scikit-learn.org/stable/modules/linear_model.html#logistic-regression\n  extra_warning_msg=_LOGISTIC_SOLVER_CONVERGENCE_MSG)\n/shared-libs/python3.7/py/lib/python3.7/site-packages/sklearn/linear_model/_logistic.py:765: ConvergenceWarning: lbfgs failed to converge (status=1):\nSTOP: TOTAL NO. of ITERATIONS REACHED LIMIT.\n\nIncrease the number of iterations (max_iter) or scale the data as shown in:\n    https://scikit-learn.org/stable/modules/preprocessing.html\nPlease also refer to the documentation for alternative solver options:\n    https://scikit-learn.org/stable/modules/linear_model.html#logistic-regression\n  extra_warning_msg=_LOGISTIC_SOLVER_CONVERGENCE_MSG)\n/shared-libs/python3.7/py/lib/python3.7/site-packages/sklearn/linear_model/_logistic.py:765: ConvergenceWarning: lbfgs failed to converge (status=1):\nSTOP: TOTAL NO. of ITERATIONS REACHED LIMIT.\n\nIncrease the number of iterations (max_iter) or scale the data as shown in:\n    https://scikit-learn.org/stable/modules/preprocessing.html\nPlease also refer to the documentation for alternative solver options:\n    https://scikit-learn.org/stable/modules/linear_model.html#logistic-regression\n  extra_warning_msg=_LOGISTIC_SOLVER_CONVERGENCE_MSG)\n/shared-libs/python3.7/py/lib/python3.7/site-packages/sklearn/linear_model/_logistic.py:765: ConvergenceWarning: lbfgs failed to converge (status=1):\nSTOP: TOTAL NO. of ITERATIONS REACHED LIMIT.\n\nIncrease the number of iterations (max_iter) or scale the data as shown in:\n    https://scikit-learn.org/stable/modules/preprocessing.html\nPlease also refer to the documentation for alternative solver options:\n    https://scikit-learn.org/stable/modules/linear_model.html#logistic-regression\n  extra_warning_msg=_LOGISTIC_SOLVER_CONVERGENCE_MSG)\n/shared-libs/python3.7/py/lib/python3.7/site-packages/sklearn/linear_model/_logistic.py:765: ConvergenceWarning: lbfgs failed to converge (status=1):\nSTOP: TOTAL NO. of ITERATIONS REACHED LIMIT.\n\nIncrease the number of iterations (max_iter) or scale the data as shown in:\n    https://scikit-learn.org/stable/modules/preprocessing.html\nPlease also refer to the documentation for alternative solver options:\n    https://scikit-learn.org/stable/modules/linear_model.html#logistic-regression\n  extra_warning_msg=_LOGISTIC_SOLVER_CONVERGENCE_MSG)\n/shared-libs/python3.7/py/lib/python3.7/site-packages/sklearn/linear_model/_logistic.py:765: ConvergenceWarning: lbfgs failed to converge (status=1):\nSTOP: TOTAL NO. of ITERATIONS REACHED LIMIT.\n\nIncrease the number of iterations (max_iter) or scale the data as shown in:\n    https://scikit-learn.org/stable/modules/preprocessing.html\nPlease also refer to the documentation for alternative solver options:\n    https://scikit-learn.org/stable/modules/linear_model.html#logistic-regression\n  extra_warning_msg=_LOGISTIC_SOLVER_CONVERGENCE_MSG)\n/shared-libs/python3.7/py/lib/python3.7/site-packages/sklearn/linear_model/_logistic.py:765: ConvergenceWarning: lbfgs failed to converge (status=1):\nSTOP: TOTAL NO. of ITERATIONS REACHED LIMIT.\n\nIncrease the number of iterations (max_iter) or scale the data as shown in:\n    https://scikit-learn.org/stable/modules/preprocessing.html\nPlease also refer to the documentation for alternative solver options:\n    https://scikit-learn.org/stable/modules/linear_model.html#logistic-regression\n  extra_warning_msg=_LOGISTIC_SOLVER_CONVERGENCE_MSG)\n/shared-libs/python3.7/py/lib/python3.7/site-packages/sklearn/linear_model/_logistic.py:765: ConvergenceWarning: lbfgs failed to converge (status=1):\nSTOP: TOTAL NO. of ITERATIONS REACHED LIMIT.\n\nIncrease the number of iterations (max_iter) or scale the data as shown in:\n    https://scikit-learn.org/stable/modules/preprocessing.html\nPlease also refer to the documentation for alternative solver options:\n    https://scikit-learn.org/stable/modules/linear_model.html#logistic-regression\n  extra_warning_msg=_LOGISTIC_SOLVER_CONVERGENCE_MSG)\n/shared-libs/python3.7/py/lib/python3.7/site-packages/sklearn/linear_model/_logistic.py:765: ConvergenceWarning: lbfgs failed to converge (status=1):\nSTOP: TOTAL NO. of ITERATIONS REACHED LIMIT.\n\nIncrease the number of iterations (max_iter) or scale the data as shown in:\n    https://scikit-learn.org/stable/modules/preprocessing.html\nPlease also refer to the documentation for alternative solver options:\n    https://scikit-learn.org/stable/modules/linear_model.html#logistic-regression\n  extra_warning_msg=_LOGISTIC_SOLVER_CONVERGENCE_MSG)\n/shared-libs/python3.7/py/lib/python3.7/site-packages/sklearn/linear_model/_logistic.py:765: ConvergenceWarning: lbfgs failed to converge (status=1):\nSTOP: TOTAL NO. of ITERATIONS REACHED LIMIT.\n\nIncrease the number of iterations (max_iter) or scale the data as shown in:\n    https://scikit-learn.org/stable/modules/preprocessing.html\nPlease also refer to the documentation for alternative solver options:\n    https://scikit-learn.org/stable/modules/linear_model.html#logistic-regression\n  extra_warning_msg=_LOGISTIC_SOLVER_CONVERGENCE_MSG)\n/shared-libs/python3.7/py/lib/python3.7/site-packages/sklearn/linear_model/_logistic.py:765: ConvergenceWarning: lbfgs failed to converge (status=1):\nSTOP: TOTAL NO. of ITERATIONS REACHED LIMIT.\n\nIncrease the number of iterations (max_iter) or scale the data as shown in:\n    https://scikit-learn.org/stable/modules/preprocessing.html\nPlease also refer to the documentation for alternative solver options:\n    https://scikit-learn.org/stable/modules/linear_model.html#logistic-regression\n  extra_warning_msg=_LOGISTIC_SOLVER_CONVERGENCE_MSG)\n/shared-libs/python3.7/py/lib/python3.7/site-packages/sklearn/linear_model/_logistic.py:765: ConvergenceWarning: lbfgs failed to converge (status=1):\nSTOP: TOTAL NO. of ITERATIONS REACHED LIMIT.\n\nIncrease the number of iterations (max_iter) or scale the data as shown in:\n    https://scikit-learn.org/stable/modules/preprocessing.html\nPlease also refer to the documentation for alternative solver options:\n    https://scikit-learn.org/stable/modules/linear_model.html#logistic-regression\n  extra_warning_msg=_LOGISTIC_SOLVER_CONVERGENCE_MSG)\n/shared-libs/python3.7/py/lib/python3.7/site-packages/sklearn/linear_model/_logistic.py:765: ConvergenceWarning: lbfgs failed to converge (status=1):\nSTOP: TOTAL NO. of ITERATIONS REACHED LIMIT.\n\nIncrease the number of iterations (max_iter) or scale the data as shown in:\n    https://scikit-learn.org/stable/modules/preprocessing.html\nPlease also refer to the documentation for alternative solver options:\n    https://scikit-learn.org/stable/modules/linear_model.html#logistic-regression\n  extra_warning_msg=_LOGISTIC_SOLVER_CONVERGENCE_MSG)\n/shared-libs/python3.7/py/lib/python3.7/site-packages/sklearn/linear_model/_logistic.py:765: ConvergenceWarning: lbfgs failed to converge (status=1):\nSTOP: TOTAL NO. of ITERATIONS REACHED LIMIT.\n\nIncrease the number of iterations (max_iter) or scale the data as shown in:\n    https://scikit-learn.org/stable/modules/preprocessing.html\nPlease also refer to the documentation for alternative solver options:\n    https://scikit-learn.org/stable/modules/linear_model.html#logistic-regression\n  extra_warning_msg=_LOGISTIC_SOLVER_CONVERGENCE_MSG)\n/shared-libs/python3.7/py/lib/python3.7/site-packages/sklearn/linear_model/_logistic.py:765: ConvergenceWarning: lbfgs failed to converge (status=1):\nSTOP: TOTAL NO. of ITERATIONS REACHED LIMIT.\n\nIncrease the number of iterations (max_iter) or scale the data as shown in:\n    https://scikit-learn.org/stable/modules/preprocessing.html\nPlease also refer to the documentation for alternative solver options:\n    https://scikit-learn.org/stable/modules/linear_model.html#logistic-regression\n  extra_warning_msg=_LOGISTIC_SOLVER_CONVERGENCE_MSG)\n/shared-libs/python3.7/py/lib/python3.7/site-packages/sklearn/linear_model/_logistic.py:765: ConvergenceWarning: lbfgs failed to converge (status=1):\nSTOP: TOTAL NO. of ITERATIONS REACHED LIMIT.\n\nIncrease the number of iterations (max_iter) or scale the data as shown in:\n    https://scikit-learn.org/stable/modules/preprocessing.html\nPlease also refer to the documentation for alternative solver options:\n    https://scikit-learn.org/stable/modules/linear_model.html#logistic-regression\n  extra_warning_msg=_LOGISTIC_SOLVER_CONVERGENCE_MSG)\n/shared-libs/python3.7/py/lib/python3.7/site-packages/sklearn/linear_model/_logistic.py:765: ConvergenceWarning: lbfgs failed to converge (status=1):\nSTOP: TOTAL NO. of ITERATIONS REACHED LIMIT.\n\nIncrease the number of iterations (max_iter) or scale the data as shown in:\n    https://scikit-learn.org/stable/modules/preprocessing.html\nPlease also refer to the documentation for alternative solver options:\n    https://scikit-learn.org/stable/modules/linear_model.html#logistic-regression\n  extra_warning_msg=_LOGISTIC_SOLVER_CONVERGENCE_MSG)\n/shared-libs/python3.7/py/lib/python3.7/site-packages/sklearn/linear_model/_logistic.py:765: ConvergenceWarning: lbfgs failed to converge (status=1):\nSTOP: TOTAL NO. of ITERATIONS REACHED LIMIT.\n\nIncrease the number of iterations (max_iter) or scale the data as shown in:\n    https://scikit-learn.org/stable/modules/preprocessing.html\nPlease also refer to the documentation for alternative solver options:\n    https://scikit-learn.org/stable/modules/linear_model.html#logistic-regression\n  extra_warning_msg=_LOGISTIC_SOLVER_CONVERGENCE_MSG)\n/shared-libs/python3.7/py/lib/python3.7/site-packages/sklearn/linear_model/_logistic.py:765: ConvergenceWarning: lbfgs failed to converge (status=1):\nSTOP: TOTAL NO. of ITERATIONS REACHED LIMIT.\n\nIncrease the number of iterations (max_iter) or scale the data as shown in:\n    https://scikit-learn.org/stable/modules/preprocessing.html\nPlease also refer to the documentation for alternative solver options:\n    https://scikit-learn.org/stable/modules/linear_model.html#logistic-regression\n  extra_warning_msg=_LOGISTIC_SOLVER_CONVERGENCE_MSG)\n/shared-libs/python3.7/py/lib/python3.7/site-packages/sklearn/linear_model/_logistic.py:765: ConvergenceWarning: lbfgs failed to converge (status=1):\nSTOP: TOTAL NO. of ITERATIONS REACHED LIMIT.\n\nIncrease the number of iterations (max_iter) or scale the data as shown in:\n    https://scikit-learn.org/stable/modules/preprocessing.html\nPlease also refer to the documentation for alternative solver options:\n    https://scikit-learn.org/stable/modules/linear_model.html#logistic-regression\n  extra_warning_msg=_LOGISTIC_SOLVER_CONVERGENCE_MSG)\n/shared-libs/python3.7/py/lib/python3.7/site-packages/sklearn/linear_model/_logistic.py:765: ConvergenceWarning: lbfgs failed to converge (status=1):\nSTOP: TOTAL NO. of ITERATIONS REACHED LIMIT.\n\nIncrease the number of iterations (max_iter) or scale the data as shown in:\n    https://scikit-learn.org/stable/modules/preprocessing.html\nPlease also refer to the documentation for alternative solver options:\n    https://scikit-learn.org/stable/modules/linear_model.html#logistic-regression\n  extra_warning_msg=_LOGISTIC_SOLVER_CONVERGENCE_MSG)\n/shared-libs/python3.7/py/lib/python3.7/site-packages/sklearn/linear_model/_logistic.py:765: ConvergenceWarning: lbfgs failed to converge (status=1):\nSTOP: TOTAL NO. of ITERATIONS REACHED LIMIT.\n\nIncrease the number of iterations (max_iter) or scale the data as shown in:\n    https://scikit-learn.org/stable/modules/preprocessing.html\nPlease also refer to the documentation for alternative solver options:\n    https://scikit-learn.org/stable/modules/linear_model.html#logistic-regression\n  extra_warning_msg=_LOGISTIC_SOLVER_CONVERGENCE_MSG)\n/shared-libs/python3.7/py/lib/python3.7/site-packages/sklearn/linear_model/_logistic.py:765: ConvergenceWarning: lbfgs failed to converge (status=1):\nSTOP: TOTAL NO. of ITERATIONS REACHED LIMIT.\n\nIncrease the number of iterations (max_iter) or scale the data as shown in:\n    https://scikit-learn.org/stable/modules/preprocessing.html\nPlease also refer to the documentation for alternative solver options:\n    https://scikit-learn.org/stable/modules/linear_model.html#logistic-regression\n  extra_warning_msg=_LOGISTIC_SOLVER_CONVERGENCE_MSG)\n/shared-libs/python3.7/py/lib/python3.7/site-packages/sklearn/linear_model/_logistic.py:765: ConvergenceWarning: lbfgs failed to converge (status=1):\nSTOP: TOTAL NO. of ITERATIONS REACHED LIMIT.\n\nIncrease the number of iterations (max_iter) or scale the data as shown in:\n    https://scikit-learn.org/stable/modules/preprocessing.html\nPlease also refer to the documentation for alternative solver options:\n    https://scikit-learn.org/stable/modules/linear_model.html#logistic-regression\n  extra_warning_msg=_LOGISTIC_SOLVER_CONVERGENCE_MSG)\n/shared-libs/python3.7/py/lib/python3.7/site-packages/sklearn/linear_model/_logistic.py:765: ConvergenceWarning: lbfgs failed to converge (status=1):\nSTOP: TOTAL NO. of ITERATIONS REACHED LIMIT.\n\nIncrease the number of iterations (max_iter) or scale the data as shown in:\n    https://scikit-learn.org/stable/modules/preprocessing.html\nPlease also refer to the documentation for alternative solver options:\n    https://scikit-learn.org/stable/modules/linear_model.html#logistic-regression\n  extra_warning_msg=_LOGISTIC_SOLVER_CONVERGENCE_MSG)\n/shared-libs/python3.7/py/lib/python3.7/site-packages/sklearn/linear_model/_logistic.py:765: ConvergenceWarning: lbfgs failed to converge (status=1):\nSTOP: TOTAL NO. of ITERATIONS REACHED LIMIT.\n\nIncrease the number of iterations (max_iter) or scale the data as shown in:\n    https://scikit-learn.org/stable/modules/preprocessing.html\nPlease also refer to the documentation for alternative solver options:\n    https://scikit-learn.org/stable/modules/linear_model.html#logistic-regression\n  extra_warning_msg=_LOGISTIC_SOLVER_CONVERGENCE_MSG)\n/shared-libs/python3.7/py/lib/python3.7/site-packages/sklearn/linear_model/_logistic.py:765: ConvergenceWarning: lbfgs failed to converge (status=1):\nSTOP: TOTAL NO. of ITERATIONS REACHED LIMIT.\n\nIncrease the number of iterations (max_iter) or scale the data as shown in:\n    https://scikit-learn.org/stable/modules/preprocessing.html\nPlease also refer to the documentation for alternative solver options:\n    https://scikit-learn.org/stable/modules/linear_model.html#logistic-regression\n  extra_warning_msg=_LOGISTIC_SOLVER_CONVERGENCE_MSG)\n/shared-libs/python3.7/py/lib/python3.7/site-packages/sklearn/linear_model/_logistic.py:765: ConvergenceWarning: lbfgs failed to converge (status=1):\nSTOP: TOTAL NO. of ITERATIONS REACHED LIMIT.\n\nIncrease the number of iterations (max_iter) or scale the data as shown in:\n    https://scikit-learn.org/stable/modules/preprocessing.html\nPlease also refer to the documentation for alternative solver options:\n    https://scikit-learn.org/stable/modules/linear_model.html#logistic-regression\n  extra_warning_msg=_LOGISTIC_SOLVER_CONVERGENCE_MSG)\n/shared-libs/python3.7/py/lib/python3.7/site-packages/sklearn/linear_model/_logistic.py:765: ConvergenceWarning: lbfgs failed to converge (status=1):\nSTOP: TOTAL NO. of ITERATIONS REACHED LIMIT.\n\nIncrease the number of iterations (max_iter) or scale the data as shown in:\n    https://scikit-learn.org/stable/modules/preprocessing.html\nPlease also refer to the documentation for alternative solver options:\n    https://scikit-learn.org/stable/modules/linear_model.html#logistic-regression\n  extra_warning_msg=_LOGISTIC_SOLVER_CONVERGENCE_MSG)\n/shared-libs/python3.7/py/lib/python3.7/site-packages/sklearn/linear_model/_logistic.py:765: ConvergenceWarning: lbfgs failed to converge (status=1):\nSTOP: TOTAL NO. of ITERATIONS REACHED LIMIT.\n\nIncrease the number of iterations (max_iter) or scale the data as shown in:\n    https://scikit-learn.org/stable/modules/preprocessing.html\nPlease also refer to the documentation for alternative solver options:\n    https://scikit-learn.org/stable/modules/linear_model.html#logistic-regression\n  extra_warning_msg=_LOGISTIC_SOLVER_CONVERGENCE_MSG)\n/shared-libs/python3.7/py/lib/python3.7/site-packages/sklearn/linear_model/_logistic.py:765: ConvergenceWarning: lbfgs failed to converge (status=1):\nSTOP: TOTAL NO. of ITERATIONS REACHED LIMIT.\n\nIncrease the number of iterations (max_iter) or scale the data as shown in:\n    https://scikit-learn.org/stable/modules/preprocessing.html\nPlease also refer to the documentation for alternative solver options:\n    https://scikit-learn.org/stable/modules/linear_model.html#logistic-regression\n  extra_warning_msg=_LOGISTIC_SOLVER_CONVERGENCE_MSG)\n/shared-libs/python3.7/py/lib/python3.7/site-packages/sklearn/linear_model/_logistic.py:765: ConvergenceWarning: lbfgs failed to converge (status=1):\nSTOP: TOTAL NO. of ITERATIONS REACHED LIMIT.\n\nIncrease the number of iterations (max_iter) or scale the data as shown in:\n    https://scikit-learn.org/stable/modules/preprocessing.html\nPlease also refer to the documentation for alternative solver options:\n    https://scikit-learn.org/stable/modules/linear_model.html#logistic-regression\n  extra_warning_msg=_LOGISTIC_SOLVER_CONVERGENCE_MSG)\n/shared-libs/python3.7/py/lib/python3.7/site-packages/sklearn/linear_model/_logistic.py:765: ConvergenceWarning: lbfgs failed to converge (status=1):\nSTOP: TOTAL NO. of ITERATIONS REACHED LIMIT.\n\nIncrease the number of iterations (max_iter) or scale the data as shown in:\n    https://scikit-learn.org/stable/modules/preprocessing.html\nPlease also refer to the documentation for alternative solver options:\n    https://scikit-learn.org/stable/modules/linear_model.html#logistic-regression\n  extra_warning_msg=_LOGISTIC_SOLVER_CONVERGENCE_MSG)\n/shared-libs/python3.7/py/lib/python3.7/site-packages/sklearn/linear_model/_logistic.py:765: ConvergenceWarning: lbfgs failed to converge (status=1):\nSTOP: TOTAL NO. of ITERATIONS REACHED LIMIT.\n\nIncrease the number of iterations (max_iter) or scale the data as shown in:\n    https://scikit-learn.org/stable/modules/preprocessing.html\nPlease also refer to the documentation for alternative solver options:\n    https://scikit-learn.org/stable/modules/linear_model.html#logistic-regression\n  extra_warning_msg=_LOGISTIC_SOLVER_CONVERGENCE_MSG)\n/shared-libs/python3.7/py/lib/python3.7/site-packages/sklearn/linear_model/_logistic.py:765: ConvergenceWarning: lbfgs failed to converge (status=1):\nSTOP: TOTAL NO. of ITERATIONS REACHED LIMIT.\n\nIncrease the number of iterations (max_iter) or scale the data as shown in:\n    https://scikit-learn.org/stable/modules/preprocessing.html\nPlease also refer to the documentation for alternative solver options:\n    https://scikit-learn.org/stable/modules/linear_model.html#logistic-regression\n  extra_warning_msg=_LOGISTIC_SOLVER_CONVERGENCE_MSG)\n/shared-libs/python3.7/py/lib/python3.7/site-packages/sklearn/linear_model/_logistic.py:765: ConvergenceWarning: lbfgs failed to converge (status=1):\nSTOP: TOTAL NO. of ITERATIONS REACHED LIMIT.\n\nIncrease the number of iterations (max_iter) or scale the data as shown in:\n    https://scikit-learn.org/stable/modules/preprocessing.html\nPlease also refer to the documentation for alternative solver options:\n    https://scikit-learn.org/stable/modules/linear_model.html#logistic-regression\n  extra_warning_msg=_LOGISTIC_SOLVER_CONVERGENCE_MSG)\n/shared-libs/python3.7/py/lib/python3.7/site-packages/sklearn/linear_model/_logistic.py:765: ConvergenceWarning: lbfgs failed to converge (status=1):\nSTOP: TOTAL NO. of ITERATIONS REACHED LIMIT.\n\nIncrease the number of iterations (max_iter) or scale the data as shown in:\n    https://scikit-learn.org/stable/modules/preprocessing.html\nPlease also refer to the documentation for alternative solver options:\n    https://scikit-learn.org/stable/modules/linear_model.html#logistic-regression\n  extra_warning_msg=_LOGISTIC_SOLVER_CONVERGENCE_MSG)\n/shared-libs/python3.7/py/lib/python3.7/site-packages/sklearn/linear_model/_logistic.py:765: ConvergenceWarning: lbfgs failed to converge (status=1):\nSTOP: TOTAL NO. of ITERATIONS REACHED LIMIT.\n\nIncrease the number of iterations (max_iter) or scale the data as shown in:\n    https://scikit-learn.org/stable/modules/preprocessing.html\nPlease also refer to the documentation for alternative solver options:\n    https://scikit-learn.org/stable/modules/linear_model.html#logistic-regression\n  extra_warning_msg=_LOGISTIC_SOLVER_CONVERGENCE_MSG)\n/shared-libs/python3.7/py/lib/python3.7/site-packages/sklearn/linear_model/_logistic.py:765: ConvergenceWarning: lbfgs failed to converge (status=1):\nSTOP: TOTAL NO. of ITERATIONS REACHED LIMIT.\n\nIncrease the number of iterations (max_iter) or scale the data as shown in:\n    https://scikit-learn.org/stable/modules/preprocessing.html\nPlease also refer to the documentation for alternative solver options:\n    https://scikit-learn.org/stable/modules/linear_model.html#logistic-regression\n  extra_warning_msg=_LOGISTIC_SOLVER_CONVERGENCE_MSG)\n/shared-libs/python3.7/py/lib/python3.7/site-packages/sklearn/linear_model/_logistic.py:765: ConvergenceWarning: lbfgs failed to converge (status=1):\nSTOP: TOTAL NO. of ITERATIONS REACHED LIMIT.\n\nIncrease the number of iterations (max_iter) or scale the data as shown in:\n    https://scikit-learn.org/stable/modules/preprocessing.html\nPlease also refer to the documentation for alternative solver options:\n    https://scikit-learn.org/stable/modules/linear_model.html#logistic-regression\n  extra_warning_msg=_LOGISTIC_SOLVER_CONVERGENCE_MSG)\n/shared-libs/python3.7/py/lib/python3.7/site-packages/sklearn/linear_model/_logistic.py:765: ConvergenceWarning: lbfgs failed to converge (status=1):\nSTOP: TOTAL NO. of ITERATIONS REACHED LIMIT.\n\nIncrease the number of iterations (max_iter) or scale the data as shown in:\n    https://scikit-learn.org/stable/modules/preprocessing.html\nPlease also refer to the documentation for alternative solver options:\n    https://scikit-learn.org/stable/modules/linear_model.html#logistic-regression\n  extra_warning_msg=_LOGISTIC_SOLVER_CONVERGENCE_MSG)\n/shared-libs/python3.7/py/lib/python3.7/site-packages/sklearn/linear_model/_logistic.py:765: ConvergenceWarning: lbfgs failed to converge (status=1):\nSTOP: TOTAL NO. of ITERATIONS REACHED LIMIT.\n\nIncrease the number of iterations (max_iter) or scale the data as shown in:\n    https://scikit-learn.org/stable/modules/preprocessing.html\nPlease also refer to the documentation for alternative solver options:\n    https://scikit-learn.org/stable/modules/linear_model.html#logistic-regression\n  extra_warning_msg=_LOGISTIC_SOLVER_CONVERGENCE_MSG)\n/shared-libs/python3.7/py/lib/python3.7/site-packages/sklearn/linear_model/_logistic.py:765: ConvergenceWarning: lbfgs failed to converge (status=1):\nSTOP: TOTAL NO. of ITERATIONS REACHED LIMIT.\n\nIncrease the number of iterations (max_iter) or scale the data as shown in:\n    https://scikit-learn.org/stable/modules/preprocessing.html\nPlease also refer to the documentation for alternative solver options:\n    https://scikit-learn.org/stable/modules/linear_model.html#logistic-regression\n  extra_warning_msg=_LOGISTIC_SOLVER_CONVERGENCE_MSG)\nBest cross-validation accuracy: 0.82\nTest set score: 0.56\nBest parameters: {'logisticregression__C': 10}\n",
          "output_type": "stream"
        }
      ]
    },
    {
      "cell_type": "code",
      "metadata": {
        "tags": [],
        "cell_id": "00017-e68ae1c0-208d-43ab-9eb8-6cbe9b9e9ccc",
        "deepnote_cell_type": "code"
      },
      "source": "# No scaler used\n# takes C=10 as recommededrecommended from grid search cv\n\nlogiXpipe = make_pipeline(LogisticRegression(C=10, random_state = 42))\nlogiXpipe.fit(X_train, y_train)\nprint(\"No scaler Test score: {:.2f}\".format(logiXpipe.score(X_test, y_test)))",
      "execution_count": null,
      "outputs": []
    },
    {
      "cell_type": "code",
      "metadata": {
        "tags": [],
        "cell_id": "00025-f7f4195a-2758-400a-b995-91c2b4bf1bc2",
        "deepnote_to_be_reexecuted": false,
        "source_hash": "a5d7cd5e",
        "execution_millis": 12,
        "execution_start": 1616941666708,
        "deepnote_cell_type": "code"
      },
      "source": "# grid search to figure C for precision  \n# Best cross-validation accuracy: 0.95\n# Test set score: 0.88\n# Best parameters: {'logisticregression__C': 1}",
      "execution_count": 24,
      "outputs": []
    },
    {
      "cell_type": "code",
      "metadata": {
        "tags": [],
        "cell_id": "00026-36195b88-7ce6-47cf-9f9d-91e67369e3a9",
        "deepnote_to_be_reexecuted": false,
        "source_hash": "f49f389c",
        "execution_millis": 14,
        "execution_start": 1616941666730,
        "deepnote_cell_type": "code"
      },
      "source": "# grid search to figure C for recall\n# Best cross-validation accuracy: 0.88\n# Test set score: 0.42\n# Best parameters: {'logisticregression__C': 10}",
      "execution_count": 25,
      "outputs": []
    },
    {
      "cell_type": "code",
      "metadata": {
        "tags": [],
        "cell_id": "00029-521fd98d-72ba-4d55-af33-1dbbc7b58b3f",
        "deepnote_to_be_reexecuted": false,
        "source_hash": "251bcee5",
        "execution_millis": 34,
        "execution_start": 1616941666751,
        "deepnote_cell_type": "code"
      },
      "source": "X_test.shape",
      "execution_count": 26,
      "outputs": [
        {
          "output_type": "execute_result",
          "execution_count": 26,
          "data": {
            "text/plain": "(947, 11)"
          },
          "metadata": {}
        }
      ]
    },
    {
      "cell_type": "code",
      "metadata": {
        "tags": [],
        "cell_id": "00029-ba18e162-26c8-46d4-84dc-d0ffcb568b28",
        "deepnote_to_be_reexecuted": false,
        "source_hash": "b018143c",
        "execution_millis": 20,
        "execution_start": 1616941667076,
        "deepnote_cell_type": "code"
      },
      "source": "y_score = logiXpipe.decision_function(X_test)\n\nfrom sklearn.metrics import average_precision_score\naverage_precision = average_precision_score(y_test, y_score)\n\nprint('Average precision-recall score: {0:0.2f}'.format(\n      average_precision))",
      "execution_count": 29,
      "outputs": [
        {
          "name": "stdout",
          "text": "Average precision-recall score: 0.76\n",
          "output_type": "stream"
        }
      ]
    },
    {
      "cell_type": "code",
      "metadata": {
        "tags": [],
        "cell_id": "00030-fb17b5ac-7a60-4e10-a0e3-ae80c5fae747",
        "deepnote_to_be_reexecuted": false,
        "source_hash": "659ecac0",
        "execution_millis": 599,
        "execution_start": 1616942434149,
        "deepnote_cell_type": "code"
      },
      "source": "from sklearn.metrics import precision_recall_curve\nfrom sklearn.metrics import plot_precision_recall_curve\nimport matplotlib.pyplot as plt\n\ndisp = plot_precision_recall_curve(logiXpipe, X_test, y_test)\ndisp.ax_.set_title('2-class Precision-Recall curve, LR with no scaling and C=10: '\n                   'AP={0:0.2f}'.format(average_precision), color = \"white\" )",
      "execution_count": 58,
      "outputs": [
        {
          "output_type": "execute_result",
          "execution_count": 58,
          "data": {
            "text/plain": "Text(0.5, 1.0, '2-class Precision-Recall curve, LR with no scaling and C=10: AP=0.76')"
          },
          "metadata": {}
        },
        {
          "data": {
            "text/plain": "<Figure size 432x288 with 1 Axes>",
            "image/png": "[encoded data removed]"
          },
          "metadata": {
            "needs_background": "light"
          },
          "output_type": "display_data"
        }
      ]
    },
    {
      "cell_type": "code",
      "metadata": {
        "tags": [],
        "cell_id": "00010-3cef0b57-fdae-420f-8231-b4918565cd6d",
        "deepnote_to_be_reexecuted": false,
        "source_hash": "b646f056",
        "execution_millis": 514,
        "execution_start": 1616941668459,
        "deepnote_cell_type": "code"
      },
      "source": "# Pipeline logistic regression with scalers,C recommended by grid search\n\nfrom sklearn.preprocessing import RobustScaler, StandardScaler, MinMaxScaler\n\npipeRobustScaler = make_pipeline(RobustScaler(), LogisticRegression(C=10, random_state = 1642))\npipeRobustScaler.fit(X_train, y_train)\nprint(\"Test score Robust, c = 10, optimal for recall according to gridsearch: {:.2f}\".format(pipeRobustScaler.score(X_test, y_test)))\ny_scoreRobustScaler = pipeRobustScaler.decision_function(X_test)\naverage_precisionRobustScaler = average_precision_score(y_test, y_scoreRobustScaler)\n\nprint('Average precision-recall score: {0:0.2f}'.format(\n      average_precisionRobustScaler))\n\npipeStandardScaler = make_pipeline(StandardScaler(), LogisticRegression(C=10, random_state = 1642))\npipeStandardScaler.fit(X_train, y_train)\nprint(\"Test score Standard Scaler, c = 10, optimal for recall according to gridsearch: {:.2f}\".format(pipeStandardScaler.score(X_test, y_test)))\ny_scoreStandardScaler = pipeStandardScaler.decision_function(X_test)\naverage_precisionStandardScaler = average_precision_score(y_test, y_scoreStandardScaler)\n\nprint('Average precision-recall score: {0:0.2f}'.format(\n      average_precisionStandardScaler))\n\n\npipeMinMaxScaler = make_pipeline(MinMaxScaler(), LogisticRegression(C=10, random_state = 1642))\npipeMinMaxScaler.fit(X_train, y_train)\nprint(\"Test score Min Max Scaler, c = 10, optimal for recall according to gridsearch: {:.2f}\".format(pipeMinMaxScaler.score(X_test, y_test)))\ny_scoreMinMaxScaler = pipeMinMaxScaler.decision_function(X_test)\naverage_precisionMinMaxScaler = average_precision_score(y_test, y_scoreMinMaxScaler)\n\nprint('Average precision-recall score: {0:0.2f}'.format(\n      average_precisionMinMaxScaler))\n\n\npipeScaleLess = make_pipeline(LogisticRegression(C=10, random_state = 1642))\npipeScaleLess.fit(X_train, y_train)\nprint(\"Test score no scaler and C = 10: {:.2f}\".format(pipeScaleLess.score(X_test,y_test)))\ny_scoreScaleLess = pipeScaleLess.decision_function(X_test)\naverage_precisionScaleLess = average_precision_score(y_test, y_scoreScaleLess)\n\nprint('Average precision-recall score: {0:0.2f}'.format(\n      average_precisionScaleLess))\n\n",
      "execution_count": 31,
      "outputs": [
        {
          "name": "stdout",
          "text": "Test score Robust, c = 10, optimal for recall according to gridsearch: 1.00\nAverage precision-recall score: 1.00\nTest score Standard Scaler, c = 10, optimal for recall according to gridsearch: 1.00\nAverage precision-recall score: 1.00\nTest score Min Max Scaler, c = 10, optimal for recall according to gridsearch: 1.00\nAverage precision-recall score: 1.00\nTest score no scaler and C = 10: 0.97\nAverage precision-recall score: 0.76\n/shared-libs/python3.7/py/lib/python3.7/site-packages/sklearn/linear_model/_logistic.py:765: ConvergenceWarning: lbfgs failed to converge (status=1):\nSTOP: TOTAL NO. of ITERATIONS REACHED LIMIT.\n\nIncrease the number of iterations (max_iter) or scale the data as shown in:\n    https://scikit-learn.org/stable/modules/preprocessing.html\nPlease also refer to the documentation for alternative solver options:\n    https://scikit-learn.org/stable/modules/linear_model.html#logistic-regression\n  extra_warning_msg=_LOGISTIC_SOLVER_CONVERGENCE_MSG)\n",
          "output_type": "stream"
        }
      ]
    },
    {
      "cell_type": "code",
      "metadata": {
        "tags": [],
        "cell_id": "00036-4f859849-e76b-4453-84dd-076e0bc75df0",
        "deepnote_to_be_reexecuted": false,
        "source_hash": "85568155",
        "execution_millis": 15,
        "execution_start": 1616941668977,
        "deepnote_cell_type": "code"
      },
      "source": "y_score = pipeMinMaxScaler.decision_function(X_test)\n",
      "execution_count": 32,
      "outputs": []
    },
    {
      "cell_type": "code",
      "metadata": {
        "tags": [],
        "cell_id": "00037-76a81fc7-92dd-4bc4-a483-075e31f0e4da",
        "deepnote_to_be_reexecuted": false,
        "source_hash": "3b8d4339",
        "execution_millis": 1,
        "execution_start": 1616941668998,
        "deepnote_cell_type": "code"
      },
      "source": "average_precision = average_precision_score(y_test, y_score)\n",
      "execution_count": 33,
      "outputs": []
    },
    {
      "cell_type": "code",
      "metadata": {
        "tags": [],
        "cell_id": "00038-f4594dc1-e8ce-4039-be9b-5bb87ef23919",
        "deepnote_to_be_reexecuted": false,
        "source_hash": "7ceb654f",
        "execution_millis": 76,
        "execution_start": 1616941669025,
        "deepnote_cell_type": "code"
      },
      "source": "print('Average precision-recall score: {0:0.2f}'.format(\n      average_precision))",
      "execution_count": 34,
      "outputs": [
        {
          "name": "stdout",
          "text": "Average precision-recall score: 1.00\n",
          "output_type": "stream"
        }
      ]
    },
    {
      "cell_type": "code",
      "metadata": {
        "tags": [],
        "cell_id": "00036-2c1b515a-2778-4e46-85cb-f482457575a0",
        "deepnote_to_be_reexecuted": false,
        "source_hash": "54d1caec",
        "execution_millis": 34,
        "execution_start": 1616941669091,
        "deepnote_cell_type": "code"
      },
      "source": "y_score = pipeScaleLess.decision_function(X_test)\n\nfrom sklearn.metrics import average_precision_score\naverage_precision = average_precision_score(y_test, y_score)\n\nprint('Average precision-recall score: {0:0.2f}'.format(\n      average_precision))",
      "execution_count": 35,
      "outputs": []
    },
    {
      "cell_type": "markdown",
      "source": "SGD starts",
      "metadata": {
        "tags": [],
        "cell_id": "00027-56978119-faa1-40b4-a632-dacde2fdddb0",
        "deepnote_cell_type": "markdown"
      }
    },
    {
      "cell_type": "code",
      "metadata": {
        "tags": [],
        "cell_id": "00027-b894fc02-3feb-409e-8c52-9d577004926b",
        "deepnote_cell_type": "code"
      },
      "source": "# from sklearn.linear_model import SGDClassifier\n\n\n# pipe = make_pipeline(SGDClassifier())\n\n# param_grid = {\n#     'sgdclassifier__loss': ('log', 'hinge'),\n#     'sgdclassifier__penalty': ['l1', 'l2', 'elasticnet'],\n#     'sgdclassifier__alpha': [0.001, 0.0001, 0.00001, 0.000001]\n# }\n\n\n# cv = StratifiedShuffleSplit(n_splits=20, test_size=0.2, random_state=42)\n# # Chose the stratified shuffle because it results in stratified randomized folds which retain the sample percentage for each class \n\n# grid = GridSearchCV(pipe, param_grid, cv=cv, scoring = 'recall') \n# grid.fit(X_train, y_train)\n\n# # Finding the optimal value for the C parameter of the logistic regression\n\n# print(\"Best cross-validation accuracy: {:.2f}\".format(grid.best_score_)) \n# print(\"Test set score: {:.2f}\".format(grid.score(X_test, y_test))) \n# print(\"Best parameters: {}\".format(grid.best_params_))\n",
      "execution_count": null,
      "outputs": []
    },
    {
      "cell_type": "code",
      "metadata": {
        "tags": [],
        "cell_id": "00027-d9764aac-48b5-45b9-a7d3-4cd1cdd7cebb",
        "deepnote_cell_type": "code"
      },
      "source": "# # No scaler used\n# # takes C=10 as recommededrecommended from grid search cv\n\n# sgdXpipe = make_pipeline(SGDClassifier(alpha=0.001, random_state = 42))\n# sgdXpipe.fit(X_train, y_train)\n# print(\"No scaler Test score: {:.2f}\".format(sgdXpipe.score(X_test, y_test)))\n\n",
      "execution_count": null,
      "outputs": []
    },
    {
      "cell_type": "code",
      "metadata": {
        "tags": [],
        "cell_id": "00030-edccc197-7870-4879-b226-95732d53b5a7",
        "deepnote_cell_type": "code"
      },
      "source": "# y_score = sgdXpipe.decision_function(X_test)\n\n# from sklearn.metrics import average_precision_score\n# average_precision = average_precision_score(y_test, y_score)\n\n# print('Average precision-recall score: {0:0.2f}'.format(\n#       average_precision))",
      "execution_count": null,
      "outputs": []
    },
    {
      "cell_type": "code",
      "metadata": {
        "tags": [],
        "cell_id": "00030-fbab63ce-acfa-4f47-9bb8-125284c5816f",
        "deepnote_cell_type": "code"
      },
      "source": "# from sklearn.preprocessing import RobustScaler, StandardScaler, MinMaxScaler\n\n# scaledsgdXpipe = make_pipeline(MinMaxScaler(), SGDClassifier(alpha=0.001, random_state = 42))\n# scaledsgdXpipe.fit(X_train, y_train)\n# print(\"Test score Min Max Scaler, alpha  = 0.001, optimal for recall according to gridsearch: {:.2f}\".format(scaledsgdXpipe.score(X_test, y_test)))\n# y_scoreMinMaxScaler = scaledsgdXpipe.decision_function(X_test)\n# average_precisionMinMaxScaler = average_precision_score(y_test, y_scoreMinMaxScaler)\n\n# print('Average precision-recall score: {0:0.2f}'.format(\n#       average_precisionMinMaxScaler))",
      "execution_count": null,
      "outputs": []
    },
    {
      "cell_type": "markdown",
      "source": "SGD ends",
      "metadata": {
        "tags": [],
        "cell_id": "00028-c5596723-060d-4522-805b-b5036242cef8",
        "deepnote_cell_type": "markdown"
      }
    },
    {
      "cell_type": "code",
      "metadata": {
        "id": "30W93J9xevZB",
        "scrolled": true,
        "cell_id": "00002-8bebe36b-13d6-47ec-a4a1-6c247553ac96",
        "deepnote_to_be_reexecuted": false,
        "source_hash": "7e33697c",
        "execution_millis": 17,
        "execution_start": 1616945241519,
        "deepnote_cell_type": "code"
      },
      "source": "def get_opcode_frequencies(dictionary):\n    overall_sum_of_all_opcodes = 0\n    overall_sum_opcode_counter_dict = {\n        'SWAP1': 0,\n        'SWAP2': 0,\n        'DUP9' : 0,\n        'DUP12': 0,\n        'MSTORE':0,\n        'POP': 0,\n        'RETURN' : 0,\n        'SSTORE' : 0,\n        'STOP' : 0,\n        'JUMP' : 0\n    }\n\n    # create shallow copy to not change the value of original when copy is altered.\n    relative_opcode_counter_dict = overall_sum_opcode_counter_dict.copy()\n    average_opcode_counter_dict = overall_sum_opcode_counter_dict.copy()\n\n    for row_dict in dictionary:\n        for value in row_dict['opcode_counter']:\n            overall_sum_opcode_counter_dict[value] = overall_sum_opcode_counter_dict[value] + row_dict[\"opcode_counter\"][value]\n            overall_sum_of_all_opcodes = overall_sum_of_all_opcodes + row_dict['opcode_counter'][value]\n\n    # divide each frequency with the total amount to get relative frequency \n    for entry_value in overall_sum_opcode_counter_dict:\n        relative_opcode_counter_dict[entry_value] = overall_sum_opcode_counter_dict[entry_value] / overall_sum_of_all_opcodes\n#    print('relative freq of each opcode:\\n',relative_opcode_counter_dict)\n\n    # compute the average by considering size of the dictionary\n    size_of_dict = len(dictionary)\n    for entry_value in overall_sum_opcode_counter_dict:\n        average_opcode_counter_dict[entry_value] = overall_sum_opcode_counter_dict[entry_value] / size_of_dict\n#    print('average freq of each opcode:\\n',average_opcode_counter_dict)\n\n    return relative_opcode_counter_dict, average_opcode_counter_dict\n\nponzi_relative_opcode_frequencies, ponzi_average_opcode_frequencies = get_opcode_frequencies(owner_opcode_dict_ponzi)\nprint('ponzi_relative_opcode_frequencies:', ponzi_relative_opcode_frequencies)\nprint('ponzi_average_opcode_frequencies:', ponzi_average_opcode_frequencies)\n\nnon_ponzi_relative_opcode_frequencies, non_ponzi_average_opcode_frequencies = get_opcode_frequencies(owner_opcode_dict_non_ponzi)\nprint('non_ponzi_relative_opcode_frequencies:', non_ponzi_relative_opcode_frequencies)\nprint('non_ponzi_average_opcode_frequencies:', non_ponzi_average_opcode_frequencies)\n\n",
      "execution_count": 61,
      "outputs": [
        {
          "name": "stdout",
          "text": "ponzi_relative_opcode_frequencies: {'SWAP1': 0.22679586121191928, 'SWAP2': 0.09885003647104379, 'DUP9': 0.010337965005808351, 'DUP12': 0.30111574378416345, 'MSTORE': 0.09355498122416635, 'POP': 0.1511702252199519, 'RETURN': 0.012355128909380713, 'SSTORE': 0.030230442965591145, 'STOP': 0.006375678766648356, 'JUMP': 0.06921393644132665}\nponzi_average_opcode_frequencies: {'SWAP1': 125.925, 'SWAP2': 54.885, 'DUP9': 5.74, 'DUP12': 167.19, 'MSTORE': 51.945, 'POP': 83.935, 'RETURN': 6.86, 'SSTORE': 16.785, 'STOP': 3.54, 'JUMP': 38.43}\nnon_ponzi_relative_opcode_frequencies: {'SWAP1': 0.22316111311768708, 'SWAP2': 0.09017065472118921, 'DUP9': 0.006158382510675735, 'DUP12': 0.3031379155575211, 'MSTORE': 0.10915270108051986, 'POP': 0.14972651931784858, 'RETURN': 0.01459598373979583, 'SSTORE': 0.020997590039365004, 'STOP': 0.006945390416179276, 'JUMP': 0.07595374949921829}\nnon_ponzi_average_opcode_frequencies: {'SWAP1': 170.4026770775237, 'SWAP2': 68.85303959843837, 'DUP9': 4.7024539877300615, 'DUP12': 231.4718349135527, 'MSTORE': 83.34746235359732, 'POP': 114.32905744562186, 'RETURN': 11.145287228109314, 'SSTORE': 16.033463469046293, 'STOP': 5.30340211935304, 'JUMP': 57.997211377579475}\n",
          "output_type": "stream"
        }
      ]
    },
    {
      "cell_type": "code",
      "metadata": {
        "tags": [],
        "cell_id": "00019-a2b8d15d-6a71-4b6c-b270-b4b1d2303314",
        "deepnote_to_be_reexecuted": false,
        "source_hash": "b623e53d",
        "execution_millis": 27,
        "execution_start": 1616941682699,
        "deepnote_cell_type": "code"
      },
      "source": "# This is where the visualization of the whole dataset begins.",
      "execution_count": 42,
      "outputs": []
    },
    {
      "cell_type": "code",
      "metadata": {
        "tags": [],
        "cell_id": "00020-dcb5244f-1f80-48d5-9fd6-e5d09038025d",
        "deepnote_to_be_reexecuted": false,
        "source_hash": "fc6eac75",
        "execution_millis": 8793,
        "allow_embed": "code_output",
        "execution_start": 1616941682733,
        "deepnote_cell_type": "code"
      },
      "source": "!pip install networkx==2.5\nimport networkx as nx\n\n# populate the contracts \ndf_example = pd.DataFrame.from_dict(owner_opcode_dict_ponzi)\n# testing purposes check visualization\n# df_example = df_example[:30]\n#df_example.head()\ndf_example.drop(columns=['opcode_counter'])\ndf_example_rows = df_example\ndf_example_rows\n# here\nC = 0\nW = 0\n# nx.draw_spring(GAAdj, with_labels=True)\nwallet_dictionary = {}\ncontract_dictionary = {}\n\n\nfor index, row in df_example.iterrows():\n    owner = row['owner']\n    contract = row['address']\n    # print(owner,contract)\n    if owner not in wallet_dictionary.keys(): \n        wallet_dictionary[owner] = 'W' + str(W)\n        W += 1\n    \n    if contract not in contract_dictionary.keys(): \n        contract_dictionary[contract] = 'C' + str(C)\n        C += 1\n\nwColor = '#FFC0CB'\ncColor = '#00FF00'\n\nnode_colors = []\n\nwallet_dictionary.update(contract_dictionary)\nG = nx.from_pandas_edgelist(df_example_rows, source='address', target='owner')\ncolor_dict = {'W': wColor, 'C': cColor}\n\nG = nx.relabel_nodes(G, wallet_dictionary)\nfor node in G.nodes():\n    node_colors.append(color_dict[node[0]])\n\noptions = {\"node_size\": 500, \"alpha\": 0.8}\n\nplt.figure(figsize=(8,8))\n\n# would be nice to make the node size proportional to the amount of money that\n# was put in the contract in the beginning\nnx.draw(G, with_labels=True, node_color=node_colors)\nplt.show()\n\nnx.write_graphml(G, 'fullDataset.graphml')",
      "execution_count": 43,
      "outputs": [
        {
          "name": "stdout",
          "text": "Requirement already satisfied: networkx==2.5 in /root/venv/lib/python3.7/site-packages (2.5)\nRequirement already satisfied: decorator>=4.3.0 in /shared-libs/python3.7/py-core/lib/python3.7/site-packages (from networkx==2.5) (4.4.2)\n\u001b[33mWARNING: You are using pip version 20.1.1; however, version 21.0.1 is available.\nYou should consider upgrading via the '/root/venv/bin/python -m pip install --upgrade pip' command.\u001b[0m\n",
          "output_type": "stream"
        },
        {
          "data": {
            "text/plain": "<Figure size 576x576 with 1 Axes>",
            "image/png": "[encoded data removed]"
          },
          "metadata": {},
          "output_type": "display_data"
        }
      ]
    },
    {
      "cell_type": "markdown",
      "source": "<a style='text-decoration:none;line-height:16px;display:flex;color:#5B5B62;padding:10px;justify-content:end;' href='https://deepnote.com?utm_source=created-in-deepnote-cell&projectId=1f0ff243-a6be-405e-85de-a67e1fff1f5d' target=\"_blank\">\n<img style='display:inline;max-height:16px;margin:0px;margin-right:7.5px;' src='data:image/svg+xml;base64,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' > </img>\nCreated in <span style='font-weight:600;margin-left:4px;'>Deepnote</span></a>",
      "metadata": {
        "tags": [],
        "created_in_deepnote_cell": true,
        "deepnote_cell_type": "markdown"
      }
    }
  ],
  "nbformat": 4,
  "nbformat_minor": 1,
  "metadata": {
    "colab": {
      "name": "Dataset - visualization",
      "provenance": []
    },
    "kernelspec": {
      "display_name": "Python 3",
      "language": "python",
      "name": "python3"
    },
    "language_info": {
      "codemirror_mode": {
        "name": "ipython",
        "version": 3
      },
      "file_extension": ".py",
      "mimetype": "text/x-python",
      "name": "python",
      "nbconvert_exporter": "python",
      "pygments_lexer": "ipython3",
      "version": "3.8.5"
    },
    "deepnote_notebook_id": "77a95de9-4a61-4375-bce6-89b032b2f6c0",
    "deepnote": {},
    "deepnote_execution_queue": []
  }
}